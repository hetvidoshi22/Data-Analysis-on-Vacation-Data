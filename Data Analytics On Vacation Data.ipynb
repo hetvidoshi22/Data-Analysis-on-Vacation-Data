{
 "cells": [
  {
   "cell_type": "markdown",
   "id": "396a42e0-3a40-46c9-9f39-5b3acc6d23ee",
   "metadata": {},
   "source": [
    "# Data analysis on vacation data\n",
    "### in this analysis we are going to describe the behaviour of multiple vacation plan"
   ]
  },
  {
   "cell_type": "markdown",
   "id": "33a05919-9ef7-4f9e-bc56-19d117772041",
   "metadata": {},
   "source": [
    "##  import the required libraries"
   ]
  },
  {
   "cell_type": "code",
   "execution_count": 1,
   "id": "5fb402bc-6fa9-453f-87d0-a09ce064066f",
   "metadata": {},
   "outputs": [],
   "source": [
    "#import pandas\n",
    "import pandas as pd\n",
    "\n",
    "#import numpy\n",
    "import numpy as np\n",
    "\n",
    "#import matplotib\n",
    "import matplotlib.pyplot as plt\n",
    "\n",
    "#import seaborn\n",
    "import seaborn as sns"
   ]
  },
  {
   "cell_type": "markdown",
   "id": "8d4da003-5966-4de1-8209-aff3512bab20",
   "metadata": {},
   "source": [
    "### load the data set\n"
   ]
  },
  {
   "cell_type": "code",
   "execution_count": 2,
   "id": "d5bddf4e-a17d-48ca-b15a-7783776650e6",
   "metadata": {},
   "outputs": [],
   "source": [
    "# read the data file we have in the folder\n",
    "df_vacation_data = pd.read_csv('Book1.csv')"
   ]
  },
  {
   "cell_type": "markdown",
   "id": "50ecf32b-88f0-4818-8419-6c3df4880144",
   "metadata": {},
   "source": [
    "### DATA OVERVIEW"
   ]
  },
  {
   "cell_type": "code",
   "execution_count": 3,
   "id": "d9c0573a-0d1f-4278-b4a7-613c72c80180",
   "metadata": {},
   "outputs": [
    {
     "data": {
      "text/html": [
       "<div>\n",
       "<style scoped>\n",
       "    .dataframe tbody tr th:only-of-type {\n",
       "        vertical-align: middle;\n",
       "    }\n",
       "\n",
       "    .dataframe tbody tr th {\n",
       "        vertical-align: top;\n",
       "    }\n",
       "\n",
       "    .dataframe thead th {\n",
       "        text-align: right;\n",
       "    }\n",
       "</style>\n",
       "<table border=\"1\" class=\"dataframe\">\n",
       "  <thead>\n",
       "    <tr style=\"text-align: right;\">\n",
       "      <th></th>\n",
       "      <th>Gender</th>\n",
       "      <th>Age</th>\n",
       "      <th>Education</th>\n",
       "      <th>Occupation</th>\n",
       "      <th>State</th>\n",
       "      <th>Relationship_Status</th>\n",
       "      <th>Obligation_Rating</th>\n",
       "      <th>Obligation_Category</th>\n",
       "      <th>NEP</th>\n",
       "      <th>Vacation_Behaviour</th>\n",
       "      <th>...</th>\n",
       "      <th>Life_style_of_the_local_people</th>\n",
       "      <th>Intense_Experience_of_Nature</th>\n",
       "      <th>Cosiness_or_Familiar_Atmosphere</th>\n",
       "      <th>Maintain_Unspoilt_Surroundings</th>\n",
       "      <th>Everything_Organised</th>\n",
       "      <th>Unspoilt_Nature_or_Natural_Landscape</th>\n",
       "      <th>Cultural_Offers</th>\n",
       "      <th>Change_of_Surroundings</th>\n",
       "      <th>Income_Doller_k</th>\n",
       "      <th>Expenditure_Doller_k</th>\n",
       "    </tr>\n",
       "  </thead>\n",
       "  <tbody>\n",
       "    <tr>\n",
       "      <th>0</th>\n",
       "      <td>Female</td>\n",
       "      <td>25</td>\n",
       "      <td>6.0</td>\n",
       "      <td>Clerical or service worker</td>\n",
       "      <td>VIC</td>\n",
       "      <td>single</td>\n",
       "      <td>4.800</td>\n",
       "      <td>Q4</td>\n",
       "      <td>3.200</td>\n",
       "      <td>2.067</td>\n",
       "      <td>...</td>\n",
       "      <td>no</td>\n",
       "      <td>no</td>\n",
       "      <td>no</td>\n",
       "      <td>no</td>\n",
       "      <td>no</td>\n",
       "      <td>no</td>\n",
       "      <td>no</td>\n",
       "      <td>no</td>\n",
       "      <td>15.0</td>\n",
       "      <td>39.0</td>\n",
       "    </tr>\n",
       "    <tr>\n",
       "      <th>1</th>\n",
       "      <td>Female</td>\n",
       "      <td>31</td>\n",
       "      <td>8.0</td>\n",
       "      <td>professional</td>\n",
       "      <td>WA</td>\n",
       "      <td>married</td>\n",
       "      <td>3.300</td>\n",
       "      <td>Q1</td>\n",
       "      <td>3.400</td>\n",
       "      <td>2.000</td>\n",
       "      <td>...</td>\n",
       "      <td>yes</td>\n",
       "      <td>no</td>\n",
       "      <td>no</td>\n",
       "      <td>no</td>\n",
       "      <td>no</td>\n",
       "      <td>no</td>\n",
       "      <td>no</td>\n",
       "      <td>yes</td>\n",
       "      <td>15.0</td>\n",
       "      <td>81.0</td>\n",
       "    </tr>\n",
       "    <tr>\n",
       "      <th>2</th>\n",
       "      <td>Male</td>\n",
       "      <td>21</td>\n",
       "      <td>3.0</td>\n",
       "      <td>NaN</td>\n",
       "      <td>NSW</td>\n",
       "      <td>single</td>\n",
       "      <td>3.400</td>\n",
       "      <td>Q2</td>\n",
       "      <td>3.067</td>\n",
       "      <td>1.233</td>\n",
       "      <td>...</td>\n",
       "      <td>yes</td>\n",
       "      <td>no</td>\n",
       "      <td>yes</td>\n",
       "      <td>no</td>\n",
       "      <td>no</td>\n",
       "      <td>no</td>\n",
       "      <td>yes</td>\n",
       "      <td>no</td>\n",
       "      <td>16.0</td>\n",
       "      <td>6.0</td>\n",
       "    </tr>\n",
       "    <tr>\n",
       "      <th>3</th>\n",
       "      <td>Female</td>\n",
       "      <td>18</td>\n",
       "      <td>2.0</td>\n",
       "      <td>unemployed</td>\n",
       "      <td>NSW</td>\n",
       "      <td>single</td>\n",
       "      <td>2.633</td>\n",
       "      <td>Q1</td>\n",
       "      <td>3.400</td>\n",
       "      <td>2.167</td>\n",
       "      <td>...</td>\n",
       "      <td>no</td>\n",
       "      <td>yes</td>\n",
       "      <td>no</td>\n",
       "      <td>no</td>\n",
       "      <td>no</td>\n",
       "      <td>no</td>\n",
       "      <td>no</td>\n",
       "      <td>yes</td>\n",
       "      <td>16.0</td>\n",
       "      <td>77.0</td>\n",
       "    </tr>\n",
       "    <tr>\n",
       "      <th>4</th>\n",
       "      <td>Male</td>\n",
       "      <td>61</td>\n",
       "      <td>3.0</td>\n",
       "      <td>retired</td>\n",
       "      <td>WA</td>\n",
       "      <td>married</td>\n",
       "      <td>3.400</td>\n",
       "      <td>Q2</td>\n",
       "      <td>3.733</td>\n",
       "      <td>1.724</td>\n",
       "      <td>...</td>\n",
       "      <td>yes</td>\n",
       "      <td>no</td>\n",
       "      <td>no</td>\n",
       "      <td>yes</td>\n",
       "      <td>no</td>\n",
       "      <td>no</td>\n",
       "      <td>no</td>\n",
       "      <td>no</td>\n",
       "      <td>17.0</td>\n",
       "      <td>40.0</td>\n",
       "    </tr>\n",
       "  </tbody>\n",
       "</table>\n",
       "<p>5 rows × 32 columns</p>\n",
       "</div>"
      ],
      "text/plain": [
       "   Gender  Age  Education                  Occupation State  \\\n",
       "0  Female   25        6.0  Clerical or service worker   VIC   \n",
       "1  Female   31        8.0                professional    WA   \n",
       "2    Male   21        3.0                         NaN   NSW   \n",
       "3  Female   18        2.0                  unemployed   NSW   \n",
       "4    Male   61        3.0                     retired    WA   \n",
       "\n",
       "  Relationship_Status  Obligation_Rating Obligation_Category    NEP  \\\n",
       "0              single              4.800                  Q4  3.200   \n",
       "1             married              3.300                  Q1  3.400   \n",
       "2              single              3.400                  Q2  3.067   \n",
       "3              single              2.633                  Q1  3.400   \n",
       "4             married              3.400                  Q2  3.733   \n",
       "\n",
       "   Vacation_Behaviour  ... Life_style_of_the_local_people  \\\n",
       "0               2.067  ...                             no   \n",
       "1               2.000  ...                            yes   \n",
       "2               1.233  ...                            yes   \n",
       "3               2.167  ...                             no   \n",
       "4               1.724  ...                            yes   \n",
       "\n",
       "  Intense_Experience_of_Nature Cosiness_or_Familiar_Atmosphere  \\\n",
       "0                           no                              no   \n",
       "1                           no                              no   \n",
       "2                           no                             yes   \n",
       "3                          yes                              no   \n",
       "4                           no                              no   \n",
       "\n",
       "  Maintain_Unspoilt_Surroundings Everything_Organised  \\\n",
       "0                             no                   no   \n",
       "1                             no                   no   \n",
       "2                             no                   no   \n",
       "3                             no                   no   \n",
       "4                            yes                   no   \n",
       "\n",
       "  Unspoilt_Nature_or_Natural_Landscape Cultural_Offers Change_of_Surroundings  \\\n",
       "0                                   no              no                     no   \n",
       "1                                   no              no                    yes   \n",
       "2                                   no             yes                     no   \n",
       "3                                   no              no                    yes   \n",
       "4                                   no              no                     no   \n",
       "\n",
       "  Income_Doller_k Expenditure_Doller_k  \n",
       "0            15.0                 39.0  \n",
       "1            15.0                 81.0  \n",
       "2            16.0                  6.0  \n",
       "3            16.0                 77.0  \n",
       "4            17.0                 40.0  \n",
       "\n",
       "[5 rows x 32 columns]"
      ]
     },
     "execution_count": 3,
     "metadata": {},
     "output_type": "execute_result"
    }
   ],
   "source": [
    "# show 5 observations of the data\n",
    "df_vacation_data.head()"
   ]
  },
  {
   "cell_type": "code",
   "execution_count": 4,
   "id": "ef85677e-eeeb-45b7-a576-0ca0e0fdbfd3",
   "metadata": {},
   "outputs": [
    {
     "data": {
      "text/html": [
       "<div>\n",
       "<style scoped>\n",
       "    .dataframe tbody tr th:only-of-type {\n",
       "        vertical-align: middle;\n",
       "    }\n",
       "\n",
       "    .dataframe tbody tr th {\n",
       "        vertical-align: top;\n",
       "    }\n",
       "\n",
       "    .dataframe thead th {\n",
       "        text-align: right;\n",
       "    }\n",
       "</style>\n",
       "<table border=\"1\" class=\"dataframe\">\n",
       "  <thead>\n",
       "    <tr style=\"text-align: right;\">\n",
       "      <th></th>\n",
       "      <th>Gender</th>\n",
       "      <th>Age</th>\n",
       "      <th>Education</th>\n",
       "      <th>Occupation</th>\n",
       "      <th>State</th>\n",
       "      <th>Relationship_Status</th>\n",
       "      <th>Obligation_Rating</th>\n",
       "      <th>Obligation_Category</th>\n",
       "      <th>NEP</th>\n",
       "      <th>Vacation_Behaviour</th>\n",
       "      <th>...</th>\n",
       "      <th>Life_style_of_the_local_people</th>\n",
       "      <th>Intense_Experience_of_Nature</th>\n",
       "      <th>Cosiness_or_Familiar_Atmosphere</th>\n",
       "      <th>Maintain_Unspoilt_Surroundings</th>\n",
       "      <th>Everything_Organised</th>\n",
       "      <th>Unspoilt_Nature_or_Natural_Landscape</th>\n",
       "      <th>Cultural_Offers</th>\n",
       "      <th>Change_of_Surroundings</th>\n",
       "      <th>Income_Doller_k</th>\n",
       "      <th>Expenditure_Doller_k</th>\n",
       "    </tr>\n",
       "  </thead>\n",
       "  <tbody>\n",
       "    <tr>\n",
       "      <th>995</th>\n",
       "      <td>Male</td>\n",
       "      <td>51</td>\n",
       "      <td>3.0</td>\n",
       "      <td>manager or administrator</td>\n",
       "      <td>VIC</td>\n",
       "      <td>separated or divorced</td>\n",
       "      <td>2.367</td>\n",
       "      <td>Q1</td>\n",
       "      <td>3.400</td>\n",
       "      <td>2.565</td>\n",
       "      <td>...</td>\n",
       "      <td>yes</td>\n",
       "      <td>yes</td>\n",
       "      <td>no</td>\n",
       "      <td>yes</td>\n",
       "      <td>no</td>\n",
       "      <td>no</td>\n",
       "      <td>yes</td>\n",
       "      <td>yes</td>\n",
       "      <td>NaN</td>\n",
       "      <td>NaN</td>\n",
       "    </tr>\n",
       "    <tr>\n",
       "      <th>996</th>\n",
       "      <td>Male</td>\n",
       "      <td>58</td>\n",
       "      <td>4.0</td>\n",
       "      <td>small business owner</td>\n",
       "      <td>WA</td>\n",
       "      <td>living with a partner</td>\n",
       "      <td>4.400</td>\n",
       "      <td>Q4</td>\n",
       "      <td>3.867</td>\n",
       "      <td>3.500</td>\n",
       "      <td>...</td>\n",
       "      <td>yes</td>\n",
       "      <td>yes</td>\n",
       "      <td>no</td>\n",
       "      <td>yes</td>\n",
       "      <td>no</td>\n",
       "      <td>yes</td>\n",
       "      <td>yes</td>\n",
       "      <td>no</td>\n",
       "      <td>NaN</td>\n",
       "      <td>NaN</td>\n",
       "    </tr>\n",
       "    <tr>\n",
       "      <th>997</th>\n",
       "      <td>Male</td>\n",
       "      <td>41</td>\n",
       "      <td>8.0</td>\n",
       "      <td>professional</td>\n",
       "      <td>QLD</td>\n",
       "      <td>married</td>\n",
       "      <td>3.867</td>\n",
       "      <td>Q3</td>\n",
       "      <td>3.400</td>\n",
       "      <td>2.556</td>\n",
       "      <td>...</td>\n",
       "      <td>no</td>\n",
       "      <td>no</td>\n",
       "      <td>no</td>\n",
       "      <td>no</td>\n",
       "      <td>no</td>\n",
       "      <td>no</td>\n",
       "      <td>no</td>\n",
       "      <td>yes</td>\n",
       "      <td>NaN</td>\n",
       "      <td>NaN</td>\n",
       "    </tr>\n",
       "    <tr>\n",
       "      <th>998</th>\n",
       "      <td>Female</td>\n",
       "      <td>42</td>\n",
       "      <td>3.0</td>\n",
       "      <td>professional</td>\n",
       "      <td>VIC</td>\n",
       "      <td>living with a partner</td>\n",
       "      <td>4.000</td>\n",
       "      <td>Q3</td>\n",
       "      <td>3.133</td>\n",
       "      <td>4.700</td>\n",
       "      <td>...</td>\n",
       "      <td>no</td>\n",
       "      <td>no</td>\n",
       "      <td>no</td>\n",
       "      <td>no</td>\n",
       "      <td>no</td>\n",
       "      <td>no</td>\n",
       "      <td>no</td>\n",
       "      <td>no</td>\n",
       "      <td>NaN</td>\n",
       "      <td>NaN</td>\n",
       "    </tr>\n",
       "    <tr>\n",
       "      <th>999</th>\n",
       "      <td>Female</td>\n",
       "      <td>32</td>\n",
       "      <td>6.0</td>\n",
       "      <td>manager or administrator</td>\n",
       "      <td>WA</td>\n",
       "      <td>living with a partner</td>\n",
       "      <td>2.333</td>\n",
       "      <td>Q1</td>\n",
       "      <td>3.600</td>\n",
       "      <td>2.727</td>\n",
       "      <td>...</td>\n",
       "      <td>yes</td>\n",
       "      <td>no</td>\n",
       "      <td>no</td>\n",
       "      <td>no</td>\n",
       "      <td>no</td>\n",
       "      <td>no</td>\n",
       "      <td>no</td>\n",
       "      <td>yes</td>\n",
       "      <td>NaN</td>\n",
       "      <td>NaN</td>\n",
       "    </tr>\n",
       "  </tbody>\n",
       "</table>\n",
       "<p>5 rows × 32 columns</p>\n",
       "</div>"
      ],
      "text/plain": [
       "     Gender  Age  Education                Occupation State  \\\n",
       "995    Male   51        3.0  manager or administrator   VIC   \n",
       "996    Male   58        4.0      small business owner    WA   \n",
       "997    Male   41        8.0              professional   QLD   \n",
       "998  Female   42        3.0              professional   VIC   \n",
       "999  Female   32        6.0  manager or administrator    WA   \n",
       "\n",
       "       Relationship_Status  Obligation_Rating Obligation_Category    NEP  \\\n",
       "995  separated or divorced              2.367                  Q1  3.400   \n",
       "996  living with a partner              4.400                  Q4  3.867   \n",
       "997                married              3.867                  Q3  3.400   \n",
       "998  living with a partner              4.000                  Q3  3.133   \n",
       "999  living with a partner              2.333                  Q1  3.600   \n",
       "\n",
       "     Vacation_Behaviour  ... Life_style_of_the_local_people  \\\n",
       "995               2.565  ...                            yes   \n",
       "996               3.500  ...                            yes   \n",
       "997               2.556  ...                             no   \n",
       "998               4.700  ...                             no   \n",
       "999               2.727  ...                            yes   \n",
       "\n",
       "    Intense_Experience_of_Nature Cosiness_or_Familiar_Atmosphere  \\\n",
       "995                          yes                              no   \n",
       "996                          yes                              no   \n",
       "997                           no                              no   \n",
       "998                           no                              no   \n",
       "999                           no                              no   \n",
       "\n",
       "    Maintain_Unspoilt_Surroundings Everything_Organised  \\\n",
       "995                            yes                   no   \n",
       "996                            yes                   no   \n",
       "997                             no                   no   \n",
       "998                             no                   no   \n",
       "999                             no                   no   \n",
       "\n",
       "    Unspoilt_Nature_or_Natural_Landscape Cultural_Offers  \\\n",
       "995                                   no             yes   \n",
       "996                                  yes             yes   \n",
       "997                                   no              no   \n",
       "998                                   no              no   \n",
       "999                                   no              no   \n",
       "\n",
       "    Change_of_Surroundings Income_Doller_k Expenditure_Doller_k  \n",
       "995                    yes             NaN                  NaN  \n",
       "996                     no             NaN                  NaN  \n",
       "997                    yes             NaN                  NaN  \n",
       "998                     no             NaN                  NaN  \n",
       "999                    yes             NaN                  NaN  \n",
       "\n",
       "[5 rows x 32 columns]"
      ]
     },
     "execution_count": 4,
     "metadata": {},
     "output_type": "execute_result"
    }
   ],
   "source": [
    "# show the last 5 observations\n",
    "df_vacation_data.tail()"
   ]
  },
  {
   "cell_type": "code",
   "execution_count": 5,
   "id": "1a825e0e-9132-4962-9b57-b942649f494d",
   "metadata": {},
   "outputs": [
    {
     "data": {
      "text/plain": [
       "(1000, 32)"
      ]
     },
     "execution_count": 5,
     "metadata": {},
     "output_type": "execute_result"
    }
   ],
   "source": [
    "# show the shape of the data\n",
    "df_vacation_data.shape"
   ]
  },
  {
   "cell_type": "code",
   "execution_count": 6,
   "id": "6f14966a-04b0-4758-958a-8ba2c1c2fe8f",
   "metadata": {},
   "outputs": [],
   "source": [
    "# # make a small program utilize for adding two numbers    \n",
    "# # define inputs from the user\n",
    "# x = int(input(\"enter value of x\")) # global variables\n",
    "# y = int(input(\"enter value of y\"))\n",
    "\n",
    "# def add(x,y):\n",
    "#      sum_of_2_no = x + y\n",
    "#      return sum_of_2_no\n",
    "    \n",
    "# # call the function\n",
    "# add(x,y)"
   ]
  },
  {
   "cell_type": "code",
   "execution_count": 7,
   "id": "8e38b16d-a2ce-4fd7-828c-e680ad9205d0",
   "metadata": {},
   "outputs": [],
   "source": [
    "# # make a small program utilize for adding two numbers    \n",
    "# # define inputs from the user\n",
    "\n",
    "# def add():\n",
    "#      x = int(input(\"enter value of x\")) #local variables\n",
    "#      y = int(input(\"enter value of y\"))\n",
    "#      sum_of_2_no = x + y\n",
    "#      return sum_of_2_no\n",
    "    \n",
    "# # call the function\n",
    "# add()"
   ]
  },
  {
   "cell_type": "markdown",
   "id": "c78f2bec-796d-4281-ad79-a313cfb859a1",
   "metadata": {},
   "source": [
    "**Interpretation**\n",
    " - we have 1000 observations(rows)\n",
    " - we have 32 attributes(columns)"
   ]
  },
  {
   "cell_type": "code",
   "execution_count": 8,
   "id": "03051b88-663e-47e2-a490-02053cf48d87",
   "metadata": {},
   "outputs": [
    {
     "name": "stdout",
     "output_type": "stream",
     "text": [
      "<class 'pandas.core.frame.DataFrame'>\n",
      "RangeIndex: 1000 entries, 0 to 999\n",
      "Data columns (total 32 columns):\n",
      " #   Column                                Non-Null Count  Dtype  \n",
      "---  ------                                --------------  -----  \n",
      " 0   Gender                                1000 non-null   object \n",
      " 1   Age                                   1000 non-null   int64  \n",
      " 2   Education                             992 non-null    float64\n",
      " 3   Occupation                            941 non-null    object \n",
      " 4   State                                 1000 non-null   object \n",
      " 5   Relationship_Status                   996 non-null    object \n",
      " 6   Obligation_Rating                     1000 non-null   float64\n",
      " 7   Obligation_Category                   1000 non-null   object \n",
      " 8   NEP                                   1000 non-null   float64\n",
      " 9   Vacation_Behaviour                    975 non-null    float64\n",
      " 10  Rest_and_relax                        1000 non-null   object \n",
      " 11  Luxury_be spoilt                      1000 non-null   object \n",
      " 12  Do_sports                             1000 non-null   object \n",
      " 13  excitement_a_challenge                1000 non-null   object \n",
      " 14  Not_exceed_planned_budget             1000 non-null   object \n",
      " 15  Realise_creativity                    1000 non-null   object \n",
      " 16  Fun_and_entertainment                 1000 non-null   object \n",
      " 17  Good_company                          1000 non-null   object \n",
      " 18  Health_and_beauty                     1000 non-null   object \n",
      " 19  Free_and_easy_going                   1000 non-null   object \n",
      " 20  Entertainment_facilities              1000 non-null   object \n",
      " 21  Not_care_about_prices                 1000 non-null   object \n",
      " 22  Life_style_of_the_local_people        1000 non-null   object \n",
      " 23  Intense_Experience_of_Nature          1000 non-null   object \n",
      " 24  Cosiness_or_Familiar_Atmosphere       1000 non-null   object \n",
      " 25  Maintain_Unspoilt_Surroundings        1000 non-null   object \n",
      " 26  Everything_Organised                  1000 non-null   object \n",
      " 27  Unspoilt_Nature_or_Natural_Landscape  1000 non-null   object \n",
      " 28  Cultural_Offers                       1000 non-null   object \n",
      " 29  Change_of_Surroundings                1000 non-null   object \n",
      " 30  Income_Doller_k                       200 non-null    float64\n",
      " 31  Expenditure_Doller_k                  200 non-null    float64\n",
      "dtypes: float64(6), int64(1), object(25)\n",
      "memory usage: 250.1+ KB\n"
     ]
    }
   ],
   "source": [
    "# show the basic info of the data\n",
    "df_vacation_data.info()"
   ]
  },
  {
   "cell_type": "markdown",
   "id": "8fcc1152-9789-4836-849f-4a7606e5d97b",
   "metadata": {},
   "source": [
    "**interpretation**\n",
    " - we have total 7 numerical columns and 25 categorical columns \n",
    " - memory usage is 250.1+ KB that means we does not require extra resources\n",
    " - after observing the output and we can say missing records are there in the data"
   ]
  },
  {
   "cell_type": "code",
   "execution_count": 9,
   "id": "f9e2f682-b7e5-4902-b245-71ee4368a3aa",
   "metadata": {},
   "outputs": [
    {
     "data": {
      "text/html": [
       "<div>\n",
       "<style scoped>\n",
       "    .dataframe tbody tr th:only-of-type {\n",
       "        vertical-align: middle;\n",
       "    }\n",
       "\n",
       "    .dataframe tbody tr th {\n",
       "        vertical-align: top;\n",
       "    }\n",
       "\n",
       "    .dataframe thead th {\n",
       "        text-align: right;\n",
       "    }\n",
       "</style>\n",
       "<table border=\"1\" class=\"dataframe\">\n",
       "  <thead>\n",
       "    <tr style=\"text-align: right;\">\n",
       "      <th></th>\n",
       "      <th>count</th>\n",
       "      <th>mean</th>\n",
       "      <th>std</th>\n",
       "      <th>min</th>\n",
       "      <th>25%</th>\n",
       "      <th>50%</th>\n",
       "      <th>75%</th>\n",
       "      <th>max</th>\n",
       "    </tr>\n",
       "  </thead>\n",
       "  <tbody>\n",
       "    <tr>\n",
       "      <th>Age</th>\n",
       "      <td>1000.0</td>\n",
       "      <td>44.168000</td>\n",
       "      <td>14.539228</td>\n",
       "      <td>18.000</td>\n",
       "      <td>32.000</td>\n",
       "      <td>42.000</td>\n",
       "      <td>57.000</td>\n",
       "      <td>105.0</td>\n",
       "    </tr>\n",
       "    <tr>\n",
       "      <th>Education</th>\n",
       "      <td>992.0</td>\n",
       "      <td>4.813508</td>\n",
       "      <td>2.422252</td>\n",
       "      <td>1.000</td>\n",
       "      <td>3.000</td>\n",
       "      <td>6.000</td>\n",
       "      <td>7.000</td>\n",
       "      <td>8.0</td>\n",
       "    </tr>\n",
       "    <tr>\n",
       "      <th>Obligation_Rating</th>\n",
       "      <td>1000.0</td>\n",
       "      <td>3.734748</td>\n",
       "      <td>0.635782</td>\n",
       "      <td>1.000</td>\n",
       "      <td>3.367</td>\n",
       "      <td>3.800</td>\n",
       "      <td>4.200</td>\n",
       "      <td>5.0</td>\n",
       "    </tr>\n",
       "    <tr>\n",
       "      <th>NEP</th>\n",
       "      <td>1000.0</td>\n",
       "      <td>3.648604</td>\n",
       "      <td>0.561134</td>\n",
       "      <td>1.733</td>\n",
       "      <td>3.267</td>\n",
       "      <td>3.667</td>\n",
       "      <td>4.067</td>\n",
       "      <td>5.0</td>\n",
       "    </tr>\n",
       "    <tr>\n",
       "      <th>Vacation_Behaviour</th>\n",
       "      <td>975.0</td>\n",
       "      <td>2.962788</td>\n",
       "      <td>0.668340</td>\n",
       "      <td>1.233</td>\n",
       "      <td>2.467</td>\n",
       "      <td>2.944</td>\n",
       "      <td>3.429</td>\n",
       "      <td>4.9</td>\n",
       "    </tr>\n",
       "    <tr>\n",
       "      <th>Income_Doller_k</th>\n",
       "      <td>200.0</td>\n",
       "      <td>60.560000</td>\n",
       "      <td>26.264721</td>\n",
       "      <td>15.000</td>\n",
       "      <td>41.500</td>\n",
       "      <td>61.500</td>\n",
       "      <td>78.000</td>\n",
       "      <td>137.0</td>\n",
       "    </tr>\n",
       "    <tr>\n",
       "      <th>Expenditure_Doller_k</th>\n",
       "      <td>200.0</td>\n",
       "      <td>50.200000</td>\n",
       "      <td>25.823522</td>\n",
       "      <td>1.000</td>\n",
       "      <td>34.750</td>\n",
       "      <td>50.000</td>\n",
       "      <td>73.000</td>\n",
       "      <td>99.0</td>\n",
       "    </tr>\n",
       "  </tbody>\n",
       "</table>\n",
       "</div>"
      ],
      "text/plain": [
       "                       count       mean        std     min     25%     50%  \\\n",
       "Age                   1000.0  44.168000  14.539228  18.000  32.000  42.000   \n",
       "Education              992.0   4.813508   2.422252   1.000   3.000   6.000   \n",
       "Obligation_Rating     1000.0   3.734748   0.635782   1.000   3.367   3.800   \n",
       "NEP                   1000.0   3.648604   0.561134   1.733   3.267   3.667   \n",
       "Vacation_Behaviour     975.0   2.962788   0.668340   1.233   2.467   2.944   \n",
       "Income_Doller_k        200.0  60.560000  26.264721  15.000  41.500  61.500   \n",
       "Expenditure_Doller_k   200.0  50.200000  25.823522   1.000  34.750  50.000   \n",
       "\n",
       "                         75%    max  \n",
       "Age                   57.000  105.0  \n",
       "Education              7.000    8.0  \n",
       "Obligation_Rating      4.200    5.0  \n",
       "NEP                    4.067    5.0  \n",
       "Vacation_Behaviour     3.429    4.9  \n",
       "Income_Doller_k       78.000  137.0  \n",
       "Expenditure_Doller_k  73.000   99.0  "
      ]
     },
     "execution_count": 9,
     "metadata": {},
     "output_type": "execute_result"
    }
   ],
   "source": [
    "# justify the basic statistics of the data\n",
    "df_vacation_data.describe().T    #T is used to transpose"
   ]
  },
  {
   "cell_type": "markdown",
   "id": "3239e40b-507c-4665-a8db-6d0554227c5d",
   "metadata": {},
   "source": [
    "**interpretation**\n",
    " - we dont have outliers in the data"
   ]
  },
  {
   "cell_type": "markdown",
   "id": "56d32acd-4981-4b2b-b633-c5322660de65",
   "metadata": {},
   "source": [
    "## Data Pre-processing"
   ]
  },
  {
   "cell_type": "code",
   "execution_count": 10,
   "id": "0bf11955-5c51-40d5-a665-53ce4c142134",
   "metadata": {},
   "outputs": [
    {
     "data": {
      "text/plain": [
       "Gender                                    0\n",
       "Age                                       0\n",
       "Education                                 8\n",
       "Occupation                               59\n",
       "State                                     0\n",
       "Relationship_Status                       4\n",
       "Obligation_Rating                         0\n",
       "Obligation_Category                       0\n",
       "NEP                                       0\n",
       "Vacation_Behaviour                       25\n",
       "Rest_and_relax                            0\n",
       "Luxury_be spoilt                          0\n",
       "Do_sports                                 0\n",
       "excitement_a_challenge                    0\n",
       "Not_exceed_planned_budget                 0\n",
       "Realise_creativity                        0\n",
       "Fun_and_entertainment                     0\n",
       "Good_company                              0\n",
       "Health_and_beauty                         0\n",
       "Free_and_easy_going                       0\n",
       "Entertainment_facilities                  0\n",
       "Not_care_about_prices                     0\n",
       "Life_style_of_the_local_people            0\n",
       "Intense_Experience_of_Nature              0\n",
       "Cosiness_or_Familiar_Atmosphere           0\n",
       "Maintain_Unspoilt_Surroundings            0\n",
       "Everything_Organised                      0\n",
       "Unspoilt_Nature_or_Natural_Landscape      0\n",
       "Cultural_Offers                           0\n",
       "Change_of_Surroundings                    0\n",
       "Income_Doller_k                         800\n",
       "Expenditure_Doller_k                    800\n",
       "dtype: int64"
      ]
     },
     "execution_count": 10,
     "metadata": {},
     "output_type": "execute_result"
    }
   ],
   "source": [
    "# null value handling\n",
    "# show the count of null records in the data and calculate the sum of null values\n",
    "df_vacation_data.isnull().sum()"
   ]
  },
  {
   "cell_type": "markdown",
   "id": "d8383f12-e7b1-4f58-b106-f6c8b77bc212",
   "metadata": {},
   "source": [
    "**interpretation**\n",
    " - we have 8 null records in education column(attribute)\n",
    " - we have 59 null records in occupation column\n",
    " - we have 4 null records in Relationship_Status column\n",
    " - we have 25 null records in Vacation_Behaviour column\n",
    " -  we have 800 null records in Income_Doller_k column and Expenditure_Doller_k column"
   ]
  },
  {
   "cell_type": "raw",
   "id": "a89b631c-e5dc-4ad5-8d2f-9dae01d77b5b",
   "metadata": {},
   "source": [
    "Laws to treat the null records in manufacturing : \n",
    "1. if null record % is less than 15%--> remove the observations(rows)\n",
    "2. if null record % is betweeen 20 to 70%--> impute the missing records(fill the null values)\n",
    "3. if null record % is greater than 75% --> remove the attribute(column) \n",
    "\n",
    "# if 15 to 20 or 70 to 75 vache hoi toh apna par depend kare kai value mukvi"
   ]
  },
  {
   "cell_type": "code",
   "execution_count": 11,
   "id": "287a2132-bf67-4870-a77a-eae5dd0ebbf3",
   "metadata": {},
   "outputs": [
    {
     "data": {
      "text/plain": [
       "Gender                                   0.0\n",
       "Age                                      0.0\n",
       "Education                                0.8\n",
       "Occupation                               5.9\n",
       "State                                    0.0\n",
       "Relationship_Status                      0.4\n",
       "Obligation_Rating                        0.0\n",
       "Obligation_Category                      0.0\n",
       "NEP                                      0.0\n",
       "Vacation_Behaviour                       2.5\n",
       "Rest_and_relax                           0.0\n",
       "Luxury_be spoilt                         0.0\n",
       "Do_sports                                0.0\n",
       "excitement_a_challenge                   0.0\n",
       "Not_exceed_planned_budget                0.0\n",
       "Realise_creativity                       0.0\n",
       "Fun_and_entertainment                    0.0\n",
       "Good_company                             0.0\n",
       "Health_and_beauty                        0.0\n",
       "Free_and_easy_going                      0.0\n",
       "Entertainment_facilities                 0.0\n",
       "Not_care_about_prices                    0.0\n",
       "Life_style_of_the_local_people           0.0\n",
       "Intense_Experience_of_Nature             0.0\n",
       "Cosiness_or_Familiar_Atmosphere          0.0\n",
       "Maintain_Unspoilt_Surroundings           0.0\n",
       "Everything_Organised                     0.0\n",
       "Unspoilt_Nature_or_Natural_Landscape     0.0\n",
       "Cultural_Offers                          0.0\n",
       "Change_of_Surroundings                   0.0\n",
       "Income_Doller_k                         80.0\n",
       "Expenditure_Doller_k                    80.0\n",
       "dtype: float64"
      ]
     },
     "execution_count": 11,
     "metadata": {},
     "output_type": "execute_result"
    }
   ],
   "source": [
    "# finding the percentage of missing records\n",
    "df_vacation_data.isnull().sum()/len(df_vacation_data)*100"
   ]
  },
  {
   "cell_type": "code",
   "execution_count": 12,
   "id": "447afd62-78fb-4e6e-8b87-3db4ee26eaa1",
   "metadata": {},
   "outputs": [],
   "source": [
    "# as per the law lets remove the attributes \n",
    "# missing % greater than 75% \n",
    "# there are 2 methods to make changes in the main data frame\n",
    "df_vacation_data.drop('Income_Doller_k',axis = 1,inplace = True)\n",
    "df_vacation_data = df_vacation_data.drop('Expenditure_Doller_k',axis = 1) #this method is used in company"
   ]
  },
  {
   "cell_type": "code",
   "execution_count": 13,
   "id": "66376daf-8f08-4f8f-a46e-7e1b4c551a43",
   "metadata": {},
   "outputs": [
    {
     "data": {
      "text/plain": [
       "Index(['Gender', 'Age', 'Education', 'Occupation', 'State',\n",
       "       'Relationship_Status', 'Obligation_Rating', 'Obligation_Category',\n",
       "       'NEP', 'Vacation_Behaviour', 'Rest_and_relax', 'Luxury_be spoilt',\n",
       "       'Do_sports', 'excitement_a_challenge', 'Not_exceed_planned_budget',\n",
       "       'Realise_creativity', 'Fun_and_entertainment', 'Good_company',\n",
       "       'Health_and_beauty', 'Free_and_easy_going', 'Entertainment_facilities',\n",
       "       'Not_care_about_prices', 'Life_style_of_the_local_people',\n",
       "       'Intense_Experience_of_Nature', 'Cosiness_or_Familiar_Atmosphere',\n",
       "       'Maintain_Unspoilt_Surroundings', 'Everything_Organised',\n",
       "       'Unspoilt_Nature_or_Natural_Landscape', 'Cultural_Offers',\n",
       "       'Change_of_Surroundings'],\n",
       "      dtype='object')"
      ]
     },
     "execution_count": 13,
     "metadata": {},
     "output_type": "execute_result"
    }
   ],
   "source": [
    "# perform authentic check\n",
    "df_vacation_data.columns"
   ]
  },
  {
   "cell_type": "code",
   "execution_count": 14,
   "id": "b710f42f-a527-4654-bad3-4597b110a30e",
   "metadata": {},
   "outputs": [
    {
     "data": {
      "text/plain": [
       "(1000, 30)"
      ]
     },
     "execution_count": 14,
     "metadata": {},
     "output_type": "execute_result"
    }
   ],
   "source": [
    "# for more check\n",
    "df_vacation_data.shape"
   ]
  },
  {
   "cell_type": "code",
   "execution_count": 15,
   "id": "a39852dd-de6d-4401-ac38-b47c6412be72",
   "metadata": {},
   "outputs": [
    {
     "data": {
      "text/plain": [
       "Gender                                  0.0\n",
       "Age                                     0.0\n",
       "Education                               0.8\n",
       "Occupation                              5.9\n",
       "State                                   0.0\n",
       "Relationship_Status                     0.4\n",
       "Obligation_Rating                       0.0\n",
       "Obligation_Category                     0.0\n",
       "NEP                                     0.0\n",
       "Vacation_Behaviour                      2.5\n",
       "Rest_and_relax                          0.0\n",
       "Luxury_be spoilt                        0.0\n",
       "Do_sports                               0.0\n",
       "excitement_a_challenge                  0.0\n",
       "Not_exceed_planned_budget               0.0\n",
       "Realise_creativity                      0.0\n",
       "Fun_and_entertainment                   0.0\n",
       "Good_company                            0.0\n",
       "Health_and_beauty                       0.0\n",
       "Free_and_easy_going                     0.0\n",
       "Entertainment_facilities                0.0\n",
       "Not_care_about_prices                   0.0\n",
       "Life_style_of_the_local_people          0.0\n",
       "Intense_Experience_of_Nature            0.0\n",
       "Cosiness_or_Familiar_Atmosphere         0.0\n",
       "Maintain_Unspoilt_Surroundings          0.0\n",
       "Everything_Organised                    0.0\n",
       "Unspoilt_Nature_or_Natural_Landscape    0.0\n",
       "Cultural_Offers                         0.0\n",
       "Change_of_Surroundings                  0.0\n",
       "dtype: float64"
      ]
     },
     "execution_count": 15,
     "metadata": {},
     "output_type": "execute_result"
    }
   ],
   "source": [
    "# check the percentage of null/missing records\n",
    "df_vacation_data.isnull().sum()/len(df_vacation_data)*100"
   ]
  },
  {
   "cell_type": "code",
   "execution_count": 16,
   "id": "31372cf9-ae27-4e36-8deb-3d6ececfd474",
   "metadata": {},
   "outputs": [],
   "source": [
    "# drop the null records from the data frame\n",
    "df_vacation_data.dropna(inplace=True)"
   ]
  },
  {
   "cell_type": "code",
   "execution_count": 17,
   "id": "9f6fa65d-145d-4c14-9da3-bb5233beef0b",
   "metadata": {},
   "outputs": [
    {
     "data": {
      "text/plain": [
       "Gender                                  0\n",
       "Age                                     0\n",
       "Education                               0\n",
       "Occupation                              0\n",
       "State                                   0\n",
       "Relationship_Status                     0\n",
       "Obligation_Rating                       0\n",
       "Obligation_Category                     0\n",
       "NEP                                     0\n",
       "Vacation_Behaviour                      0\n",
       "Rest_and_relax                          0\n",
       "Luxury_be spoilt                        0\n",
       "Do_sports                               0\n",
       "excitement_a_challenge                  0\n",
       "Not_exceed_planned_budget               0\n",
       "Realise_creativity                      0\n",
       "Fun_and_entertainment                   0\n",
       "Good_company                            0\n",
       "Health_and_beauty                       0\n",
       "Free_and_easy_going                     0\n",
       "Entertainment_facilities                0\n",
       "Not_care_about_prices                   0\n",
       "Life_style_of_the_local_people          0\n",
       "Intense_Experience_of_Nature            0\n",
       "Cosiness_or_Familiar_Atmosphere         0\n",
       "Maintain_Unspoilt_Surroundings          0\n",
       "Everything_Organised                    0\n",
       "Unspoilt_Nature_or_Natural_Landscape    0\n",
       "Cultural_Offers                         0\n",
       "Change_of_Surroundings                  0\n",
       "dtype: int64"
      ]
     },
     "execution_count": 17,
     "metadata": {},
     "output_type": "execute_result"
    }
   ],
   "source": [
    "# do the authentic checks\n",
    "df_vacation_data.isnull().sum()"
   ]
  },
  {
   "cell_type": "markdown",
   "id": "36209a6e-49c7-4963-bcba-572457f25a98",
   "metadata": {},
   "source": [
    "# EDA (Exploratory Data Analysis)"
   ]
  },
  {
   "cell_type": "raw",
   "id": "62d20f81-c50a-4ee7-832e-248650f59382",
   "metadata": {},
   "source": [
    "EDA: it is an method utilized to convert structured data into the information\n",
    "\n",
    "1) Univariate Analysis : when we took single column for analysis is called univariate analysis\n",
    "we have 2 kind of datatypes while analysis - numerical and categorical\n",
    "when we have only 1 numerical column plot the histogram or KDE(Kernel Density) plot \n",
    "when we have only 1 categorical column plot the count plot\n",
    "\n",
    "2) Bivariate Analysis: when we took 2 columns for analysis is called Bivariate Analysis\n",
    "when we have 2 numerical column plot the scatter plot \n",
    "when we have 1 numerical and 1 categorical column plot the bar plot\n",
    "\n",
    "3) Multivariate Analysis: when we took more than 2 columns for analysis is called Multivariate analysis\n",
    "in this case, we are going to create pair plot with HUE parameter(not recommended)\n",
    "in the multivariate analysis, we create cross tab or pivot table "
   ]
  },
  {
   "cell_type": "markdown",
   "id": "e99d4b3d-6958-4d19-8ad6-66f81f023e4e",
   "metadata": {},
   "source": [
    "# UNIVARIATE ANALYSIS"
   ]
  },
  {
   "cell_type": "code",
   "execution_count": 18,
   "id": "627f588b-8d5a-4013-94f2-5b4d28b90669",
   "metadata": {},
   "outputs": [],
   "source": [
    "# segregate the data based on data types\n",
    "df_num = df_vacation_data.select_dtypes(include = 'number') # numerical data frames\n",
    "df_cat = df_vacation_data.select_dtypes(include = 'object') # categorical data frames"
   ]
  },
  {
   "cell_type": "code",
   "execution_count": 19,
   "id": "acffb316-3bd8-48b5-8886-9a9f49b2a280",
   "metadata": {},
   "outputs": [
    {
     "data": {
      "text/html": [
       "<div>\n",
       "<style scoped>\n",
       "    .dataframe tbody tr th:only-of-type {\n",
       "        vertical-align: middle;\n",
       "    }\n",
       "\n",
       "    .dataframe tbody tr th {\n",
       "        vertical-align: top;\n",
       "    }\n",
       "\n",
       "    .dataframe thead th {\n",
       "        text-align: right;\n",
       "    }\n",
       "</style>\n",
       "<table border=\"1\" class=\"dataframe\">\n",
       "  <thead>\n",
       "    <tr style=\"text-align: right;\">\n",
       "      <th></th>\n",
       "      <th>Age</th>\n",
       "      <th>Education</th>\n",
       "      <th>Obligation_Rating</th>\n",
       "      <th>NEP</th>\n",
       "      <th>Vacation_Behaviour</th>\n",
       "    </tr>\n",
       "  </thead>\n",
       "  <tbody>\n",
       "    <tr>\n",
       "      <th>0</th>\n",
       "      <td>25</td>\n",
       "      <td>6.0</td>\n",
       "      <td>4.800</td>\n",
       "      <td>3.200</td>\n",
       "      <td>2.067</td>\n",
       "    </tr>\n",
       "    <tr>\n",
       "      <th>1</th>\n",
       "      <td>31</td>\n",
       "      <td>8.0</td>\n",
       "      <td>3.300</td>\n",
       "      <td>3.400</td>\n",
       "      <td>2.000</td>\n",
       "    </tr>\n",
       "    <tr>\n",
       "      <th>3</th>\n",
       "      <td>18</td>\n",
       "      <td>2.0</td>\n",
       "      <td>2.633</td>\n",
       "      <td>3.400</td>\n",
       "      <td>2.167</td>\n",
       "    </tr>\n",
       "    <tr>\n",
       "      <th>4</th>\n",
       "      <td>61</td>\n",
       "      <td>3.0</td>\n",
       "      <td>3.400</td>\n",
       "      <td>3.733</td>\n",
       "      <td>1.724</td>\n",
       "    </tr>\n",
       "    <tr>\n",
       "      <th>5</th>\n",
       "      <td>63</td>\n",
       "      <td>7.0</td>\n",
       "      <td>4.400</td>\n",
       "      <td>4.267</td>\n",
       "      <td>3.300</td>\n",
       "    </tr>\n",
       "  </tbody>\n",
       "</table>\n",
       "</div>"
      ],
      "text/plain": [
       "   Age  Education  Obligation_Rating    NEP  Vacation_Behaviour\n",
       "0   25        6.0              4.800  3.200               2.067\n",
       "1   31        8.0              3.300  3.400               2.000\n",
       "3   18        2.0              2.633  3.400               2.167\n",
       "4   61        3.0              3.400  3.733               1.724\n",
       "5   63        7.0              4.400  4.267               3.300"
      ]
     },
     "execution_count": 19,
     "metadata": {},
     "output_type": "execute_result"
    }
   ],
   "source": [
    "# show the first 5 observations of the numerical data \n",
    "df_num.head()"
   ]
  },
  {
   "cell_type": "code",
   "execution_count": 20,
   "id": "57ab6cc3-1eed-48a1-ac63-386c0fedda93",
   "metadata": {},
   "outputs": [
    {
     "data": {
      "text/html": [
       "<div>\n",
       "<style scoped>\n",
       "    .dataframe tbody tr th:only-of-type {\n",
       "        vertical-align: middle;\n",
       "    }\n",
       "\n",
       "    .dataframe tbody tr th {\n",
       "        vertical-align: top;\n",
       "    }\n",
       "\n",
       "    .dataframe thead th {\n",
       "        text-align: right;\n",
       "    }\n",
       "</style>\n",
       "<table border=\"1\" class=\"dataframe\">\n",
       "  <thead>\n",
       "    <tr style=\"text-align: right;\">\n",
       "      <th></th>\n",
       "      <th>Gender</th>\n",
       "      <th>Occupation</th>\n",
       "      <th>State</th>\n",
       "      <th>Relationship_Status</th>\n",
       "      <th>Obligation_Category</th>\n",
       "      <th>Rest_and_relax</th>\n",
       "      <th>Luxury_be spoilt</th>\n",
       "      <th>Do_sports</th>\n",
       "      <th>excitement_a_challenge</th>\n",
       "      <th>Not_exceed_planned_budget</th>\n",
       "      <th>...</th>\n",
       "      <th>Entertainment_facilities</th>\n",
       "      <th>Not_care_about_prices</th>\n",
       "      <th>Life_style_of_the_local_people</th>\n",
       "      <th>Intense_Experience_of_Nature</th>\n",
       "      <th>Cosiness_or_Familiar_Atmosphere</th>\n",
       "      <th>Maintain_Unspoilt_Surroundings</th>\n",
       "      <th>Everything_Organised</th>\n",
       "      <th>Unspoilt_Nature_or_Natural_Landscape</th>\n",
       "      <th>Cultural_Offers</th>\n",
       "      <th>Change_of_Surroundings</th>\n",
       "    </tr>\n",
       "  </thead>\n",
       "  <tbody>\n",
       "    <tr>\n",
       "      <th>0</th>\n",
       "      <td>Female</td>\n",
       "      <td>Clerical or service worker</td>\n",
       "      <td>VIC</td>\n",
       "      <td>single</td>\n",
       "      <td>Q4</td>\n",
       "      <td>yes</td>\n",
       "      <td>no</td>\n",
       "      <td>no</td>\n",
       "      <td>no</td>\n",
       "      <td>no</td>\n",
       "      <td>...</td>\n",
       "      <td>no</td>\n",
       "      <td>no</td>\n",
       "      <td>no</td>\n",
       "      <td>no</td>\n",
       "      <td>no</td>\n",
       "      <td>no</td>\n",
       "      <td>no</td>\n",
       "      <td>no</td>\n",
       "      <td>no</td>\n",
       "      <td>no</td>\n",
       "    </tr>\n",
       "    <tr>\n",
       "      <th>1</th>\n",
       "      <td>Female</td>\n",
       "      <td>professional</td>\n",
       "      <td>WA</td>\n",
       "      <td>married</td>\n",
       "      <td>Q1</td>\n",
       "      <td>yes</td>\n",
       "      <td>yes</td>\n",
       "      <td>no</td>\n",
       "      <td>no</td>\n",
       "      <td>no</td>\n",
       "      <td>...</td>\n",
       "      <td>no</td>\n",
       "      <td>no</td>\n",
       "      <td>yes</td>\n",
       "      <td>no</td>\n",
       "      <td>no</td>\n",
       "      <td>no</td>\n",
       "      <td>no</td>\n",
       "      <td>no</td>\n",
       "      <td>no</td>\n",
       "      <td>yes</td>\n",
       "    </tr>\n",
       "    <tr>\n",
       "      <th>3</th>\n",
       "      <td>Female</td>\n",
       "      <td>unemployed</td>\n",
       "      <td>NSW</td>\n",
       "      <td>single</td>\n",
       "      <td>Q1</td>\n",
       "      <td>yes</td>\n",
       "      <td>yes</td>\n",
       "      <td>no</td>\n",
       "      <td>no</td>\n",
       "      <td>yes</td>\n",
       "      <td>...</td>\n",
       "      <td>yes</td>\n",
       "      <td>no</td>\n",
       "      <td>no</td>\n",
       "      <td>yes</td>\n",
       "      <td>no</td>\n",
       "      <td>no</td>\n",
       "      <td>no</td>\n",
       "      <td>no</td>\n",
       "      <td>no</td>\n",
       "      <td>yes</td>\n",
       "    </tr>\n",
       "    <tr>\n",
       "      <th>4</th>\n",
       "      <td>Male</td>\n",
       "      <td>retired</td>\n",
       "      <td>WA</td>\n",
       "      <td>married</td>\n",
       "      <td>Q2</td>\n",
       "      <td>yes</td>\n",
       "      <td>no</td>\n",
       "      <td>no</td>\n",
       "      <td>no</td>\n",
       "      <td>yes</td>\n",
       "      <td>...</td>\n",
       "      <td>no</td>\n",
       "      <td>no</td>\n",
       "      <td>yes</td>\n",
       "      <td>no</td>\n",
       "      <td>no</td>\n",
       "      <td>yes</td>\n",
       "      <td>no</td>\n",
       "      <td>no</td>\n",
       "      <td>no</td>\n",
       "      <td>no</td>\n",
       "    </tr>\n",
       "    <tr>\n",
       "      <th>5</th>\n",
       "      <td>Female</td>\n",
       "      <td>retired</td>\n",
       "      <td>QLD</td>\n",
       "      <td>married</td>\n",
       "      <td>Q4</td>\n",
       "      <td>yes</td>\n",
       "      <td>no</td>\n",
       "      <td>no</td>\n",
       "      <td>no</td>\n",
       "      <td>yes</td>\n",
       "      <td>...</td>\n",
       "      <td>no</td>\n",
       "      <td>no</td>\n",
       "      <td>no</td>\n",
       "      <td>no</td>\n",
       "      <td>yes</td>\n",
       "      <td>no</td>\n",
       "      <td>no</td>\n",
       "      <td>no</td>\n",
       "      <td>no</td>\n",
       "      <td>no</td>\n",
       "    </tr>\n",
       "  </tbody>\n",
       "</table>\n",
       "<p>5 rows × 25 columns</p>\n",
       "</div>"
      ],
      "text/plain": [
       "   Gender                  Occupation State Relationship_Status  \\\n",
       "0  Female  Clerical or service worker   VIC              single   \n",
       "1  Female                professional    WA             married   \n",
       "3  Female                  unemployed   NSW              single   \n",
       "4    Male                     retired    WA             married   \n",
       "5  Female                     retired   QLD             married   \n",
       "\n",
       "  Obligation_Category Rest_and_relax Luxury_be spoilt Do_sports  \\\n",
       "0                  Q4            yes               no        no   \n",
       "1                  Q1            yes              yes        no   \n",
       "3                  Q1            yes              yes        no   \n",
       "4                  Q2            yes               no        no   \n",
       "5                  Q4            yes               no        no   \n",
       "\n",
       "  excitement_a_challenge Not_exceed_planned_budget  ...  \\\n",
       "0                     no                        no  ...   \n",
       "1                     no                        no  ...   \n",
       "3                     no                       yes  ...   \n",
       "4                     no                       yes  ...   \n",
       "5                     no                       yes  ...   \n",
       "\n",
       "  Entertainment_facilities Not_care_about_prices  \\\n",
       "0                       no                    no   \n",
       "1                       no                    no   \n",
       "3                      yes                    no   \n",
       "4                       no                    no   \n",
       "5                       no                    no   \n",
       "\n",
       "  Life_style_of_the_local_people Intense_Experience_of_Nature  \\\n",
       "0                             no                           no   \n",
       "1                            yes                           no   \n",
       "3                             no                          yes   \n",
       "4                            yes                           no   \n",
       "5                             no                           no   \n",
       "\n",
       "  Cosiness_or_Familiar_Atmosphere Maintain_Unspoilt_Surroundings  \\\n",
       "0                              no                             no   \n",
       "1                              no                             no   \n",
       "3                              no                             no   \n",
       "4                              no                            yes   \n",
       "5                             yes                             no   \n",
       "\n",
       "  Everything_Organised Unspoilt_Nature_or_Natural_Landscape Cultural_Offers  \\\n",
       "0                   no                                   no              no   \n",
       "1                   no                                   no              no   \n",
       "3                   no                                   no              no   \n",
       "4                   no                                   no              no   \n",
       "5                   no                                   no              no   \n",
       "\n",
       "  Change_of_Surroundings  \n",
       "0                     no  \n",
       "1                    yes  \n",
       "3                    yes  \n",
       "4                     no  \n",
       "5                     no  \n",
       "\n",
       "[5 rows x 25 columns]"
      ]
     },
     "execution_count": 20,
     "metadata": {},
     "output_type": "execute_result"
    }
   ],
   "source": [
    "# show the first 5 observations of categorical data \n",
    "df_cat.head()"
   ]
  },
  {
   "cell_type": "markdown",
   "id": "74eee4a9-1bc2-44a6-935b-e37ab80d9004",
   "metadata": {},
   "source": [
    "### perform the univariate analysis on numerical data"
   ]
  },
  {
   "cell_type": "code",
   "execution_count": 21,
   "id": "51d24a03-2b4e-4953-b4ef-59ef241e6939",
   "metadata": {},
   "outputs": [
    {
     "data": {
      "text/plain": [
       "Index(['Age', 'Education', 'Obligation_Rating', 'NEP', 'Vacation_Behaviour'], dtype='object')"
      ]
     },
     "execution_count": 21,
     "metadata": {},
     "output_type": "execute_result"
    }
   ],
   "source": [
    "# show the numerical columns\n",
    "df_num.columns"
   ]
  },
  {
   "cell_type": "markdown",
   "id": "4ea4e11b-f841-48b5-a27a-8116322afa88",
   "metadata": {},
   "source": [
    "#### Age"
   ]
  },
  {
   "cell_type": "code",
   "execution_count": 22,
   "id": "fc907f24-3fd0-419f-bc5c-5ebb9d640ce7",
   "metadata": {},
   "outputs": [
    {
     "data": {
      "text/plain": [
       "np.int64(18)"
      ]
     },
     "execution_count": 22,
     "metadata": {},
     "output_type": "execute_result"
    }
   ],
   "source": [
    "# Show the minimum \n",
    "df_num.Age.min() #output should be 18"
   ]
  },
  {
   "cell_type": "code",
   "execution_count": 23,
   "id": "0455d258-cc34-4d1d-a6a4-6ce653062ff4",
   "metadata": {},
   "outputs": [
    {
     "data": {
      "text/plain": [
       "np.int64(105)"
      ]
     },
     "execution_count": 23,
     "metadata": {},
     "output_type": "execute_result"
    }
   ],
   "source": [
    "# show the maximum\n",
    "df_num.Age.max() #output should be 105"
   ]
  },
  {
   "cell_type": "code",
   "execution_count": 24,
   "id": "b7f76529-94a1-4b50-9bda-ffaf602c3526",
   "metadata": {},
   "outputs": [
    {
     "name": "stdout",
     "output_type": "stream",
     "text": [
      "Mean is 44.22\n"
     ]
    }
   ],
   "source": [
    "# show the average\n",
    "res = df_num.Age.mean() \n",
    "print(f\"Mean is {res:.2f}\")"
   ]
  },
  {
   "cell_type": "code",
   "execution_count": 25,
   "id": "0b95fe7a-ad09-4c9a-b232-3a7c9b607685",
   "metadata": {},
   "outputs": [
    {
     "data": {
      "image/png": "[encoded data removed]",
      "text/plain": [
       "<Figure size 640x480 with 1 Axes>"
      ]
     },
     "metadata": {},
     "output_type": "display_data"
    }
   ],
   "source": [
    "# show the distribution of the single numerical column\n",
    "df_num.Age.hist() # histogram\n",
    "plt.title('Distribution of Age')\n",
    "plt.show()\n",
    "\n",
    "# df_num.Age.plot(kind='kde',color='purple')  # kernel density plot - this wS not applicable on the system\n",
    "#  plt.grid()\n",
    "# plt.title('Distribution of Age')\n",
    "# plt.show()\n",
    "\n",
    "# dont give background as it doesnt look nice"
   ]
  },
  {
   "cell_type": "markdown",
   "id": "f33da367-e591-4dd1-b6cd-0d40486c7dd8",
   "metadata": {},
   "source": [
    "**interpretation** #critical analysis\n",
    " - minimum age of the person who is going for vacation is 18\n",
    " - maximum age of the person who is going for vacation is 105\n",
    " - average age of the person who is going for vacation is 44.22\n",
    " - the data follows multi model distribution\n",
    " - we have 2 groups in the data ranges are in between 25 to 49 and 50 to 65"
   ]
  },
  {
   "cell_type": "code",
   "execution_count": 26,
   "id": "f4c166c8-d555-48ee-a367-662d2e98bacd",
   "metadata": {},
   "outputs": [
    {
     "data": {
      "text/plain": [
       "Index(['Age', 'Education', 'Obligation_Rating', 'NEP', 'Vacation_Behaviour'], dtype='object')"
      ]
     },
     "execution_count": 26,
     "metadata": {},
     "output_type": "execute_result"
    }
   ],
   "source": [
    "# show the columns present in numerical data frame\n",
    "df_num.columns"
   ]
  },
  {
   "cell_type": "markdown",
   "id": "5c6ee6c4-02b0-4136-81bd-a491b9059f67",
   "metadata": {},
   "source": [
    "#### education"
   ]
  },
  {
   "cell_type": "code",
   "execution_count": 27,
   "id": "fb94dd6e-a5dd-4a3a-8efd-4411366b34ae",
   "metadata": {},
   "outputs": [
    {
     "data": {
      "text/plain": [
       "np.float64(1.0)"
      ]
     },
     "execution_count": 27,
     "metadata": {},
     "output_type": "execute_result"
    }
   ],
   "source": [
    "# show the minimum \n",
    "df_num.Education.min()"
   ]
  },
  {
   "cell_type": "code",
   "execution_count": 28,
   "id": "a53fd89d-fca9-4fb8-8512-499137d6577e",
   "metadata": {},
   "outputs": [
    {
     "data": {
      "text/plain": [
       "np.float64(8.0)"
      ]
     },
     "execution_count": 28,
     "metadata": {},
     "output_type": "execute_result"
    }
   ],
   "source": [
    "# show the maximum \n",
    "df_num.Education.max()"
   ]
  },
  {
   "cell_type": "code",
   "execution_count": 29,
   "id": "4799b719-c274-4fa3-89e0-322e4ce98a1e",
   "metadata": {},
   "outputs": [
    {
     "data": {
      "text/plain": [
       "np.float64(4.884)"
      ]
     },
     "execution_count": 29,
     "metadata": {},
     "output_type": "execute_result"
    }
   ],
   "source": [
    "# show the average \n",
    "df_num.Education.mean().round(3) #always take 3 digits after decimal"
   ]
  },
  {
   "cell_type": "code",
   "execution_count": 30,
   "id": "da07270d-3fc8-46ac-8273-5bb26a043bf7",
   "metadata": {},
   "outputs": [
    {
     "data": {
      "image/png": "[encoded data removed]",
      "text/plain": [
       "<Figure size 640x480 with 1 Axes>"
      ]
     },
     "metadata": {},
     "output_type": "display_data"
    }
   ],
   "source": [
    "# show the distribution of the single numerical column\n",
    "df_num.Education.hist() # histogram\n",
    "plt.title('Distribution of education')\n",
    "plt.show()"
   ]
  },
  {
   "cell_type": "markdown",
   "id": "fd6da97f-70c7-46a3-9833-15c667581a1d",
   "metadata": {},
   "source": [
    "**interpretaion**\n",
    " - minimum education of the person is going for vacation is 1.0\n",
    " - maximum education of the person is going for vacation is 8.0\n",
    " - average education of the person is going for vacation is 4.884\n",
    " - we have groups of 1 to 4 and 6 to 8 "
   ]
  },
  {
   "cell_type": "code",
   "execution_count": 31,
   "id": "da9b7f33-7897-4c4a-b3bb-0a5d288a5b88",
   "metadata": {},
   "outputs": [
    {
     "data": {
      "text/plain": [
       "Index(['Age', 'Education', 'Obligation_Rating', 'NEP', 'Vacation_Behaviour'], dtype='object')"
      ]
     },
     "execution_count": 31,
     "metadata": {},
     "output_type": "execute_result"
    }
   ],
   "source": [
    "# show the numerical columns\n",
    "df_num.columns"
   ]
  },
  {
   "cell_type": "markdown",
   "id": "db25fa9f-dba6-4aa4-a5c5-fbcc4dd3ed43",
   "metadata": {},
   "source": [
    "#### Obligation_Rating"
   ]
  },
  {
   "cell_type": "code",
   "execution_count": 32,
   "id": "b8425b34-5862-4ca8-baf9-f031479f4d38",
   "metadata": {},
   "outputs": [
    {
     "data": {
      "text/plain": [
       "np.float64(1.0)"
      ]
     },
     "execution_count": 32,
     "metadata": {},
     "output_type": "execute_result"
    }
   ],
   "source": [
    "# show the minimum\n",
    "df_num.Obligation_Rating.min()"
   ]
  },
  {
   "cell_type": "code",
   "execution_count": 33,
   "id": "caed46d5-7716-40d2-8949-41027e72c91b",
   "metadata": {},
   "outputs": [
    {
     "data": {
      "text/plain": [
       "np.float64(5.0)"
      ]
     },
     "execution_count": 33,
     "metadata": {},
     "output_type": "execute_result"
    }
   ],
   "source": [
    "# show the maximum\n",
    "df_num.Obligation_Rating.max()"
   ]
  },
  {
   "cell_type": "code",
   "execution_count": 34,
   "id": "7c8bb2f3-1496-4621-a370-fbfeef25fc23",
   "metadata": {},
   "outputs": [
    {
     "data": {
      "text/plain": [
       "np.float64(3.735)"
      ]
     },
     "execution_count": 34,
     "metadata": {},
     "output_type": "execute_result"
    }
   ],
   "source": [
    "# show the average\n",
    "df_num.Obligation_Rating.mean().round(3)"
   ]
  },
  {
   "cell_type": "code",
   "execution_count": 35,
   "id": "5543433e-439e-4f2d-90d4-e8c1b195c545",
   "metadata": {},
   "outputs": [
    {
     "data": {
      "image/png": "[encoded data removed]",
      "text/plain": [
       "<Figure size 640x480 with 1 Axes>"
      ]
     },
     "metadata": {},
     "output_type": "display_data"
    }
   ],
   "source": [
    "# show the distribution of the single numerical column\n",
    "df_num.Obligation_Rating.hist() # histogram\n",
    "plt.title('Distribution of Obligation_Rating')\n",
    "plt.show()"
   ]
  },
  {
   "cell_type": "markdown",
   "id": "de408693-e39c-491a-a964-2f6fa50d9abd",
   "metadata": {},
   "source": [
    "**interpretaion**\n",
    " - minimum obligation_rating of the person is going for vacation is 1.0\n",
    " - maximum of the person is going for vacation is 5.0\n",
    " - average of the person is going for vacation is 3.735\n",
    " - Data is normally distributed"
   ]
  },
  {
   "cell_type": "code",
   "execution_count": 36,
   "id": "ad693455-6032-4811-ac2a-6c29c7a42ccd",
   "metadata": {},
   "outputs": [
    {
     "data": {
      "text/plain": [
       "Index(['Age', 'Education', 'Obligation_Rating', 'NEP', 'Vacation_Behaviour'], dtype='object')"
      ]
     },
     "execution_count": 36,
     "metadata": {},
     "output_type": "execute_result"
    }
   ],
   "source": [
    "# show the numerical columns\n",
    "df_num.columns"
   ]
  },
  {
   "cell_type": "markdown",
   "id": "fc2e6a88-c17c-4af8-a152-cd72e0356869",
   "metadata": {},
   "source": [
    "#### NEP"
   ]
  },
  {
   "cell_type": "code",
   "execution_count": 37,
   "id": "ec8dacfb-6bfd-4104-adef-7a76279940f5",
   "metadata": {},
   "outputs": [
    {
     "data": {
      "text/plain": [
       "np.float64(1.733)"
      ]
     },
     "execution_count": 37,
     "metadata": {},
     "output_type": "execute_result"
    }
   ],
   "source": [
    "# show the minimum\n",
    "round(df_num.NEP.min(),3)"
   ]
  },
  {
   "cell_type": "code",
   "execution_count": 38,
   "id": "376e5691-af51-4812-8f72-5e133fa5c3bb",
   "metadata": {},
   "outputs": [
    {
     "data": {
      "text/plain": [
       "np.float64(5.0)"
      ]
     },
     "execution_count": 38,
     "metadata": {},
     "output_type": "execute_result"
    }
   ],
   "source": [
    "# show the maximum\n",
    "df_num.Obligation_Rating.max()"
   ]
  },
  {
   "cell_type": "code",
   "execution_count": 39,
   "id": "a894b7b5-516d-4f4b-8e60-3c7cc91ec74f",
   "metadata": {},
   "outputs": [
    {
     "data": {
      "text/plain": [
       "np.float64(3.647)"
      ]
     },
     "execution_count": 39,
     "metadata": {},
     "output_type": "execute_result"
    }
   ],
   "source": [
    "# show the average\n",
    "df_num.NEP.mean().round(3)"
   ]
  },
  {
   "cell_type": "code",
   "execution_count": 40,
   "id": "7f6dd039-23d1-4be4-861a-b677a4e68a75",
   "metadata": {},
   "outputs": [
    {
     "data": {
      "image/png": "[encoded data removed]",
      "text/plain": [
       "<Figure size 640x480 with 1 Axes>"
      ]
     },
     "metadata": {},
     "output_type": "display_data"
    }
   ],
   "source": [
    "# show the distribution of the single numerical column\n",
    "df_num.NEP.hist() # histogram\n",
    "plt.title('Distribution of NEP')\n",
    "plt.show()"
   ]
  },
  {
   "cell_type": "markdown",
   "id": "77d7d50d-684f-4ba1-b3c2-3bd503bb4804",
   "metadata": {},
   "source": [
    "**interpretaion**\n",
    " - minimum NEP of the person is going for vacation is 1.733\n",
    " - maximum NEP of the person is going for vacation is 5.0\n",
    " - average NEP of the person is going for vacation is 3.647\n",
    " - Data is normally distributed"
   ]
  },
  {
   "cell_type": "code",
   "execution_count": 41,
   "id": "0080b236-454c-4866-bd15-82503851cd55",
   "metadata": {},
   "outputs": [
    {
     "data": {
      "text/plain": [
       "Index(['Age', 'Education', 'Obligation_Rating', 'NEP', 'Vacation_Behaviour'], dtype='object')"
      ]
     },
     "execution_count": 41,
     "metadata": {},
     "output_type": "execute_result"
    }
   ],
   "source": [
    "# show the numerical columns\n",
    "df_num.columns"
   ]
  },
  {
   "cell_type": "markdown",
   "id": "20451d76-0f87-4d75-a3fc-19bf0eb082f1",
   "metadata": {},
   "source": [
    "#### Vacation_Behaviour"
   ]
  },
  {
   "cell_type": "code",
   "execution_count": 42,
   "id": "95ace0f9-8549-4e70-bb18-063e72c959fb",
   "metadata": {},
   "outputs": [
    {
     "data": {
      "text/plain": [
       "np.float64(1.393)"
      ]
     },
     "execution_count": 42,
     "metadata": {},
     "output_type": "execute_result"
    }
   ],
   "source": [
    "# show the minimum\n",
    "round(df_num.Vacation_Behaviour.min(),3)"
   ]
  },
  {
   "cell_type": "code",
   "execution_count": 43,
   "id": "48196dc0-db3a-493f-8096-ec8dce505677",
   "metadata": {},
   "outputs": [
    {
     "data": {
      "text/plain": [
       "np.float64(4.767)"
      ]
     },
     "execution_count": 43,
     "metadata": {},
     "output_type": "execute_result"
    }
   ],
   "source": [
    "# show the maximum\n",
    "df_num.Vacation_Behaviour.max()"
   ]
  },
  {
   "cell_type": "code",
   "execution_count": 44,
   "id": "03fe198c-7cf3-46c0-b3ba-fb0b12c07f87",
   "metadata": {},
   "outputs": [
    {
     "data": {
      "text/plain": [
       "np.float64(2.962)"
      ]
     },
     "execution_count": 44,
     "metadata": {},
     "output_type": "execute_result"
    }
   ],
   "source": [
    "df_num.Vacation_Behaviour.mean().round(3)"
   ]
  },
  {
   "cell_type": "code",
   "execution_count": 45,
   "id": "c3813ca9-1506-45ba-9296-1bb8085f0d4f",
   "metadata": {},
   "outputs": [
    {
     "data": {
      "image/png": "[encoded data removed]",
      "text/plain": [
       "<Figure size 640x480 with 1 Axes>"
      ]
     },
     "metadata": {},
     "output_type": "display_data"
    }
   ],
   "source": [
    "# show the distribution of the single numerical column\n",
    "df_num.Vacation_Behaviour.hist() # histogram\n",
    "plt.title('Distribution of Vacation_Behaviour')\n",
    "plt.show()"
   ]
  },
  {
   "cell_type": "markdown",
   "id": "96f1dac8-c06c-484c-8336-278a77d0dca6",
   "metadata": {},
   "source": [
    "**interpretaion**\n",
    " - minimum Vacation_Behaviour  of the person is going for vacation is 1.393\n",
    " - maximum Vacation_Behaviour of the person is going for vacation is 4.767\n",
    " - average Vacation_Behaviour of the person is going for vacation is 2.962\n",
    " - Data is normally distributed"
   ]
  },
  {
   "cell_type": "markdown",
   "id": "945a645c-74e0-40a4-a988-847ff9062812",
   "metadata": {},
   "source": [
    "### Univariate analysis on categorical data"
   ]
  },
  {
   "cell_type": "code",
   "execution_count": 46,
   "id": "889a45aa-9ff1-4e9c-942e-3ab0589e0780",
   "metadata": {},
   "outputs": [
    {
     "data": {
      "text/html": [
       "<div>\n",
       "<style scoped>\n",
       "    .dataframe tbody tr th:only-of-type {\n",
       "        vertical-align: middle;\n",
       "    }\n",
       "\n",
       "    .dataframe tbody tr th {\n",
       "        vertical-align: top;\n",
       "    }\n",
       "\n",
       "    .dataframe thead th {\n",
       "        text-align: right;\n",
       "    }\n",
       "</style>\n",
       "<table border=\"1\" class=\"dataframe\">\n",
       "  <thead>\n",
       "    <tr style=\"text-align: right;\">\n",
       "      <th></th>\n",
       "      <th>Gender</th>\n",
       "      <th>Occupation</th>\n",
       "      <th>State</th>\n",
       "      <th>Relationship_Status</th>\n",
       "      <th>Obligation_Category</th>\n",
       "      <th>Rest_and_relax</th>\n",
       "      <th>Luxury_be spoilt</th>\n",
       "      <th>Do_sports</th>\n",
       "      <th>excitement_a_challenge</th>\n",
       "      <th>Not_exceed_planned_budget</th>\n",
       "      <th>...</th>\n",
       "      <th>Entertainment_facilities</th>\n",
       "      <th>Not_care_about_prices</th>\n",
       "      <th>Life_style_of_the_local_people</th>\n",
       "      <th>Intense_Experience_of_Nature</th>\n",
       "      <th>Cosiness_or_Familiar_Atmosphere</th>\n",
       "      <th>Maintain_Unspoilt_Surroundings</th>\n",
       "      <th>Everything_Organised</th>\n",
       "      <th>Unspoilt_Nature_or_Natural_Landscape</th>\n",
       "      <th>Cultural_Offers</th>\n",
       "      <th>Change_of_Surroundings</th>\n",
       "    </tr>\n",
       "  </thead>\n",
       "  <tbody>\n",
       "    <tr>\n",
       "      <th>0</th>\n",
       "      <td>Female</td>\n",
       "      <td>Clerical or service worker</td>\n",
       "      <td>VIC</td>\n",
       "      <td>single</td>\n",
       "      <td>Q4</td>\n",
       "      <td>yes</td>\n",
       "      <td>no</td>\n",
       "      <td>no</td>\n",
       "      <td>no</td>\n",
       "      <td>no</td>\n",
       "      <td>...</td>\n",
       "      <td>no</td>\n",
       "      <td>no</td>\n",
       "      <td>no</td>\n",
       "      <td>no</td>\n",
       "      <td>no</td>\n",
       "      <td>no</td>\n",
       "      <td>no</td>\n",
       "      <td>no</td>\n",
       "      <td>no</td>\n",
       "      <td>no</td>\n",
       "    </tr>\n",
       "    <tr>\n",
       "      <th>1</th>\n",
       "      <td>Female</td>\n",
       "      <td>professional</td>\n",
       "      <td>WA</td>\n",
       "      <td>married</td>\n",
       "      <td>Q1</td>\n",
       "      <td>yes</td>\n",
       "      <td>yes</td>\n",
       "      <td>no</td>\n",
       "      <td>no</td>\n",
       "      <td>no</td>\n",
       "      <td>...</td>\n",
       "      <td>no</td>\n",
       "      <td>no</td>\n",
       "      <td>yes</td>\n",
       "      <td>no</td>\n",
       "      <td>no</td>\n",
       "      <td>no</td>\n",
       "      <td>no</td>\n",
       "      <td>no</td>\n",
       "      <td>no</td>\n",
       "      <td>yes</td>\n",
       "    </tr>\n",
       "    <tr>\n",
       "      <th>3</th>\n",
       "      <td>Female</td>\n",
       "      <td>unemployed</td>\n",
       "      <td>NSW</td>\n",
       "      <td>single</td>\n",
       "      <td>Q1</td>\n",
       "      <td>yes</td>\n",
       "      <td>yes</td>\n",
       "      <td>no</td>\n",
       "      <td>no</td>\n",
       "      <td>yes</td>\n",
       "      <td>...</td>\n",
       "      <td>yes</td>\n",
       "      <td>no</td>\n",
       "      <td>no</td>\n",
       "      <td>yes</td>\n",
       "      <td>no</td>\n",
       "      <td>no</td>\n",
       "      <td>no</td>\n",
       "      <td>no</td>\n",
       "      <td>no</td>\n",
       "      <td>yes</td>\n",
       "    </tr>\n",
       "    <tr>\n",
       "      <th>4</th>\n",
       "      <td>Male</td>\n",
       "      <td>retired</td>\n",
       "      <td>WA</td>\n",
       "      <td>married</td>\n",
       "      <td>Q2</td>\n",
       "      <td>yes</td>\n",
       "      <td>no</td>\n",
       "      <td>no</td>\n",
       "      <td>no</td>\n",
       "      <td>yes</td>\n",
       "      <td>...</td>\n",
       "      <td>no</td>\n",
       "      <td>no</td>\n",
       "      <td>yes</td>\n",
       "      <td>no</td>\n",
       "      <td>no</td>\n",
       "      <td>yes</td>\n",
       "      <td>no</td>\n",
       "      <td>no</td>\n",
       "      <td>no</td>\n",
       "      <td>no</td>\n",
       "    </tr>\n",
       "    <tr>\n",
       "      <th>5</th>\n",
       "      <td>Female</td>\n",
       "      <td>retired</td>\n",
       "      <td>QLD</td>\n",
       "      <td>married</td>\n",
       "      <td>Q4</td>\n",
       "      <td>yes</td>\n",
       "      <td>no</td>\n",
       "      <td>no</td>\n",
       "      <td>no</td>\n",
       "      <td>yes</td>\n",
       "      <td>...</td>\n",
       "      <td>no</td>\n",
       "      <td>no</td>\n",
       "      <td>no</td>\n",
       "      <td>no</td>\n",
       "      <td>yes</td>\n",
       "      <td>no</td>\n",
       "      <td>no</td>\n",
       "      <td>no</td>\n",
       "      <td>no</td>\n",
       "      <td>no</td>\n",
       "    </tr>\n",
       "  </tbody>\n",
       "</table>\n",
       "<p>5 rows × 25 columns</p>\n",
       "</div>"
      ],
      "text/plain": [
       "   Gender                  Occupation State Relationship_Status  \\\n",
       "0  Female  Clerical or service worker   VIC              single   \n",
       "1  Female                professional    WA             married   \n",
       "3  Female                  unemployed   NSW              single   \n",
       "4    Male                     retired    WA             married   \n",
       "5  Female                     retired   QLD             married   \n",
       "\n",
       "  Obligation_Category Rest_and_relax Luxury_be spoilt Do_sports  \\\n",
       "0                  Q4            yes               no        no   \n",
       "1                  Q1            yes              yes        no   \n",
       "3                  Q1            yes              yes        no   \n",
       "4                  Q2            yes               no        no   \n",
       "5                  Q4            yes               no        no   \n",
       "\n",
       "  excitement_a_challenge Not_exceed_planned_budget  ...  \\\n",
       "0                     no                        no  ...   \n",
       "1                     no                        no  ...   \n",
       "3                     no                       yes  ...   \n",
       "4                     no                       yes  ...   \n",
       "5                     no                       yes  ...   \n",
       "\n",
       "  Entertainment_facilities Not_care_about_prices  \\\n",
       "0                       no                    no   \n",
       "1                       no                    no   \n",
       "3                      yes                    no   \n",
       "4                       no                    no   \n",
       "5                       no                    no   \n",
       "\n",
       "  Life_style_of_the_local_people Intense_Experience_of_Nature  \\\n",
       "0                             no                           no   \n",
       "1                            yes                           no   \n",
       "3                             no                          yes   \n",
       "4                            yes                           no   \n",
       "5                             no                           no   \n",
       "\n",
       "  Cosiness_or_Familiar_Atmosphere Maintain_Unspoilt_Surroundings  \\\n",
       "0                              no                             no   \n",
       "1                              no                             no   \n",
       "3                              no                             no   \n",
       "4                              no                            yes   \n",
       "5                             yes                             no   \n",
       "\n",
       "  Everything_Organised Unspoilt_Nature_or_Natural_Landscape Cultural_Offers  \\\n",
       "0                   no                                   no              no   \n",
       "1                   no                                   no              no   \n",
       "3                   no                                   no              no   \n",
       "4                   no                                   no              no   \n",
       "5                   no                                   no              no   \n",
       "\n",
       "  Change_of_Surroundings  \n",
       "0                     no  \n",
       "1                    yes  \n",
       "3                    yes  \n",
       "4                     no  \n",
       "5                     no  \n",
       "\n",
       "[5 rows x 25 columns]"
      ]
     },
     "execution_count": 46,
     "metadata": {},
     "output_type": "execute_result"
    }
   ],
   "source": [
    "# show the first 5 observation of categorical data\n",
    "df_cat.head()"
   ]
  },
  {
   "cell_type": "code",
   "execution_count": 47,
   "id": "8794e52a-3236-478f-ad21-ad597f0df970",
   "metadata": {},
   "outputs": [
    {
     "data": {
      "text/plain": [
       "Index(['Gender', 'Occupation', 'State', 'Relationship_Status',\n",
       "       'Obligation_Category', 'Rest_and_relax', 'Luxury_be spoilt',\n",
       "       'Do_sports', 'excitement_a_challenge', 'Not_exceed_planned_budget',\n",
       "       'Realise_creativity', 'Fun_and_entertainment', 'Good_company',\n",
       "       'Health_and_beauty', 'Free_and_easy_going', 'Entertainment_facilities',\n",
       "       'Not_care_about_prices', 'Life_style_of_the_local_people',\n",
       "       'Intense_Experience_of_Nature', 'Cosiness_or_Familiar_Atmosphere',\n",
       "       'Maintain_Unspoilt_Surroundings', 'Everything_Organised',\n",
       "       'Unspoilt_Nature_or_Natural_Landscape', 'Cultural_Offers',\n",
       "       'Change_of_Surroundings'],\n",
       "      dtype='object')"
      ]
     },
     "execution_count": 47,
     "metadata": {},
     "output_type": "execute_result"
    }
   ],
   "source": [
    "# show the columns\n",
    "df_cat.columns"
   ]
  },
  {
   "cell_type": "markdown",
   "id": "dcc0c19f-e99a-421a-a13e-0bea12110f57",
   "metadata": {},
   "source": [
    "#### gender"
   ]
  },
  {
   "cell_type": "code",
   "execution_count": 48,
   "id": "6ba484cd-4743-4c97-97db-c4ff9cc9cf75",
   "metadata": {},
   "outputs": [
    {
     "data": {
      "text/plain": [
       "Gender\n",
       "Male      482\n",
       "Female    430\n",
       "Name: count, dtype: int64"
      ]
     },
     "execution_count": 48,
     "metadata": {},
     "output_type": "execute_result"
    }
   ],
   "source": [
    "# finding the count\n",
    "df_cat.Gender.value_counts()"
   ]
  },
  {
   "cell_type": "code",
   "execution_count": 49,
   "id": "bfe99654-2aee-46c7-ba9c-706ad67c5735",
   "metadata": {},
   "outputs": [
    {
     "data": {
      "image/png": "[encoded data removed]",
      "text/plain": [
       "<Figure size 640x480 with 1 Axes>"
      ]
     },
     "metadata": {},
     "output_type": "display_data"
    }
   ],
   "source": [
    "# show the plot\n",
    "df_cat.Gender.value_counts().plot(kind = 'bar',color='grey')\n",
    "plt.grid()\n",
    "plt.title('Count of gender')\n",
    "plt.xticks(rotation = 0) #to rotate(axis) of the gender indentation\n",
    "plt.ylabel('count')\n",
    "plt.show()"
   ]
  },
  {
   "cell_type": "markdown",
   "id": "3dc9dc48-6a0f-41f1-8ba5-de850ddc809c",
   "metadata": {},
   "source": [
    "**interpretation**\n",
    " - we have count of persons going on vacation 482 males and 430 females\n",
    " - data is quiet balanced"
   ]
  },
  {
   "cell_type": "code",
   "execution_count": 50,
   "id": "4c5ff5a9-b66b-42c2-a610-6092419945cb",
   "metadata": {},
   "outputs": [
    {
     "data": {
      "text/plain": [
       "Index(['Gender', 'Occupation', 'State', 'Relationship_Status',\n",
       "       'Obligation_Category', 'Rest_and_relax', 'Luxury_be spoilt',\n",
       "       'Do_sports', 'excitement_a_challenge', 'Not_exceed_planned_budget',\n",
       "       'Realise_creativity', 'Fun_and_entertainment', 'Good_company',\n",
       "       'Health_and_beauty', 'Free_and_easy_going', 'Entertainment_facilities',\n",
       "       'Not_care_about_prices', 'Life_style_of_the_local_people',\n",
       "       'Intense_Experience_of_Nature', 'Cosiness_or_Familiar_Atmosphere',\n",
       "       'Maintain_Unspoilt_Surroundings', 'Everything_Organised',\n",
       "       'Unspoilt_Nature_or_Natural_Landscape', 'Cultural_Offers',\n",
       "       'Change_of_Surroundings'],\n",
       "      dtype='object')"
      ]
     },
     "execution_count": 50,
     "metadata": {},
     "output_type": "execute_result"
    }
   ],
   "source": [
    "# show the categorical columns\n",
    "df_cat.columns"
   ]
  },
  {
   "cell_type": "markdown",
   "id": "c47f58d8-10e5-49e0-b327-3ebe823c3208",
   "metadata": {},
   "source": [
    "#### Occupation"
   ]
  },
  {
   "cell_type": "code",
   "execution_count": 51,
   "id": "f05b679b-ba96-4efe-b4e9-496851a93380",
   "metadata": {},
   "outputs": [
    {
     "data": {
      "text/plain": [
       "Occupation\n",
       "professional                  253\n",
       "manager or administrator      180\n",
       "Clerical or service worker     99\n",
       "retired                        87\n",
       "home-duties                    75\n",
       "sales                          61\n",
       "small business owner           56\n",
       "unemployed                     35\n",
       "tradesperson                   27\n",
       "transport worker               20\n",
       "labourer                       19\n",
       "Name: count, dtype: int64"
      ]
     },
     "execution_count": 51,
     "metadata": {},
     "output_type": "execute_result"
    }
   ],
   "source": [
    "df_cat.Occupation.value_counts()"
   ]
  },
  {
   "cell_type": "code",
   "execution_count": 52,
   "id": "107687d7-70cb-4b77-b9f9-bd3dd94316f4",
   "metadata": {},
   "outputs": [
    {
     "data": {
      "image/png": "[encoded data removed]",
      "text/plain": [
       "<Figure size 640x480 with 1 Axes>"
      ]
     },
     "metadata": {},
     "output_type": "display_data"
    }
   ],
   "source": [
    "# show the plot\n",
    "df_cat.Occupation.value_counts().plot(kind = 'bar',color='grey')\n",
    "plt.grid()\n",
    "plt.title('Count of occupation')\n",
    "plt.xticks(rotation = 90)\n",
    "plt.ylabel('count')\n",
    "plt.show()"
   ]
  },
  {
   "cell_type": "markdown",
   "id": "87234b60-6a0b-4004-b288-b22ac23027e9",
   "metadata": {},
   "source": [
    "**interpretation**\n",
    " - we have count of professional                  253\n",
    " - we have count of manager or administrator      180\n",
    " - we have count of Clerical or service worker     99\n",
    " - we have count of retired                        87\n",
    " - we have count of home-duties                    75\n",
    " - we have count of sales                          61\n",
    " - we have count of small business owner           56\n",
    " - we have count of unemployed                     35\n",
    " - we have count of tradesperson                   27\n",
    " - we have count of transport worker               20\n",
    " - we have count of labourer                       19"
   ]
  },
  {
   "cell_type": "code",
   "execution_count": 53,
   "id": "05c51d61-87fb-4e22-84d7-6c07d1e0d646",
   "metadata": {},
   "outputs": [
    {
     "data": {
      "text/plain": [
       "Index(['Gender', 'Occupation', 'State', 'Relationship_Status',\n",
       "       'Obligation_Category', 'Rest_and_relax', 'Luxury_be spoilt',\n",
       "       'Do_sports', 'excitement_a_challenge', 'Not_exceed_planned_budget',\n",
       "       'Realise_creativity', 'Fun_and_entertainment', 'Good_company',\n",
       "       'Health_and_beauty', 'Free_and_easy_going', 'Entertainment_facilities',\n",
       "       'Not_care_about_prices', 'Life_style_of_the_local_people',\n",
       "       'Intense_Experience_of_Nature', 'Cosiness_or_Familiar_Atmosphere',\n",
       "       'Maintain_Unspoilt_Surroundings', 'Everything_Organised',\n",
       "       'Unspoilt_Nature_or_Natural_Landscape', 'Cultural_Offers',\n",
       "       'Change_of_Surroundings'],\n",
       "      dtype='object')"
      ]
     },
     "execution_count": 53,
     "metadata": {},
     "output_type": "execute_result"
    }
   ],
   "source": [
    "# show the categorical columns\n",
    "df_cat.columns"
   ]
  },
  {
   "cell_type": "markdown",
   "id": "638716d7-e1c5-4d9e-b07c-ab7061a7fbe2",
   "metadata": {},
   "source": [
    "#### State"
   ]
  },
  {
   "cell_type": "code",
   "execution_count": 54,
   "id": "2b7b8bd1-9e77-49e3-8e4f-8e34be4fe5e6",
   "metadata": {},
   "outputs": [
    {
     "data": {
      "text/plain": [
       "State\n",
       "NSW    298\n",
       "VIC    245\n",
       "QLD    186\n",
       "WA      81\n",
       "SA      63\n",
       "ACT     21\n",
       "Tas     12\n",
       "NT       6\n",
       "Name: count, dtype: int64"
      ]
     },
     "execution_count": 54,
     "metadata": {},
     "output_type": "execute_result"
    }
   ],
   "source": [
    "df_cat.State.value_counts()"
   ]
  },
  {
   "cell_type": "code",
   "execution_count": 55,
   "id": "bc9a0ae6-f7fc-4cdf-ad6b-14830c8cd805",
   "metadata": {},
   "outputs": [
    {
     "data": {
      "image/png": "[encoded data removed]",
      "text/plain": [
       "<Figure size 640x480 with 1 Axes>"
      ]
     },
     "metadata": {},
     "output_type": "display_data"
    }
   ],
   "source": [
    "# show the plot\n",
    "df_cat.State.value_counts().plot(kind = 'bar',color='grey')\n",
    "plt.grid()\n",
    "plt.title('Count of State')\n",
    "plt.xticks(rotation = 0)\n",
    "plt.ylabel('count')\n",
    "plt.show()"
   ]
  },
  {
   "cell_type": "markdown",
   "id": "6cb2d177-c66f-4b10-afc5-4f8278ab5100",
   "metadata": {},
   "source": [
    "**interpretation** \n",
    " - NSW    298\n",
    " - VIC    245\n",
    " - QLD    186\n",
    " - WA      81\n",
    " - SA      63\n",
    " - ACT     21\n",
    " - Tas     12\n",
    " - NT       6"
   ]
  },
  {
   "cell_type": "code",
   "execution_count": 56,
   "id": "88bbd4fd-320b-47da-bfa4-a1de8ee436ea",
   "metadata": {},
   "outputs": [
    {
     "data": {
      "text/plain": [
       "Index(['Gender', 'Occupation', 'State', 'Relationship_Status',\n",
       "       'Obligation_Category', 'Rest_and_relax', 'Luxury_be spoilt',\n",
       "       'Do_sports', 'excitement_a_challenge', 'Not_exceed_planned_budget',\n",
       "       'Realise_creativity', 'Fun_and_entertainment', 'Good_company',\n",
       "       'Health_and_beauty', 'Free_and_easy_going', 'Entertainment_facilities',\n",
       "       'Not_care_about_prices', 'Life_style_of_the_local_people',\n",
       "       'Intense_Experience_of_Nature', 'Cosiness_or_Familiar_Atmosphere',\n",
       "       'Maintain_Unspoilt_Surroundings', 'Everything_Organised',\n",
       "       'Unspoilt_Nature_or_Natural_Landscape', 'Cultural_Offers',\n",
       "       'Change_of_Surroundings'],\n",
       "      dtype='object')"
      ]
     },
     "execution_count": 56,
     "metadata": {},
     "output_type": "execute_result"
    }
   ],
   "source": [
    "# show the categorical columns\n",
    "df_cat.columns"
   ]
  },
  {
   "cell_type": "markdown",
   "id": "6f098ec7-8309-4bc5-adb1-67ce70d3da3e",
   "metadata": {},
   "source": [
    "#### Relationship_Status"
   ]
  },
  {
   "cell_type": "code",
   "execution_count": 57,
   "id": "dd359dcb-63d4-442e-beaa-64e2c44dfbda",
   "metadata": {},
   "outputs": [
    {
     "data": {
      "text/plain": [
       "Relationship_Status\n",
       "married                  481\n",
       "single                   191\n",
       "living with a partner    133\n",
       "separated or divorced     95\n",
       "widowed                   12\n",
       "Name: count, dtype: int64"
      ]
     },
     "execution_count": 57,
     "metadata": {},
     "output_type": "execute_result"
    }
   ],
   "source": [
    "df_cat.Relationship_Status.value_counts()"
   ]
  },
  {
   "cell_type": "code",
   "execution_count": 58,
   "id": "6d841d17-b62b-45c8-b6d0-27536434fa26",
   "metadata": {},
   "outputs": [
    {
     "data": {
      "image/png": "[encoded data removed]",
      "text/plain": [
       "<Figure size 640x480 with 1 Axes>"
      ]
     },
     "metadata": {},
     "output_type": "display_data"
    }
   ],
   "source": [
    "# show the plot\n",
    "df_cat.Relationship_Status.value_counts().plot(kind = 'bar',color='grey')\n",
    "plt.grid()\n",
    "plt.title('Count of Relationship_Status')\n",
    "plt.xticks(rotation = 70)\n",
    "plt.ylabel('count')\n",
    "plt.show()"
   ]
  },
  {
   "cell_type": "markdown",
   "id": "d90a8913-e329-4fa6-bab6-8683e094d79e",
   "metadata": {},
   "source": [
    "**interpretation** \n",
    " - married                  481\n",
    " - single                   191\n",
    " - living with a partner    133\n",
    " - separated or divorced     95\n",
    " - widowed                   12"
   ]
  },
  {
   "cell_type": "code",
   "execution_count": 59,
   "id": "47771965-ec70-4417-baf0-029bf3066dd0",
   "metadata": {},
   "outputs": [
    {
     "data": {
      "text/plain": [
       "Index(['Gender', 'Occupation', 'State', 'Relationship_Status',\n",
       "       'Obligation_Category', 'Rest_and_relax', 'Luxury_be spoilt',\n",
       "       'Do_sports', 'excitement_a_challenge', 'Not_exceed_planned_budget',\n",
       "       'Realise_creativity', 'Fun_and_entertainment', 'Good_company',\n",
       "       'Health_and_beauty', 'Free_and_easy_going', 'Entertainment_facilities',\n",
       "       'Not_care_about_prices', 'Life_style_of_the_local_people',\n",
       "       'Intense_Experience_of_Nature', 'Cosiness_or_Familiar_Atmosphere',\n",
       "       'Maintain_Unspoilt_Surroundings', 'Everything_Organised',\n",
       "       'Unspoilt_Nature_or_Natural_Landscape', 'Cultural_Offers',\n",
       "       'Change_of_Surroundings'],\n",
       "      dtype='object')"
      ]
     },
     "execution_count": 59,
     "metadata": {},
     "output_type": "execute_result"
    }
   ],
   "source": [
    "# show the categorical columns\n",
    "df_cat.columns"
   ]
  },
  {
   "cell_type": "markdown",
   "id": "dd13e03e-5550-4a5d-bb54-0d7944ed87e5",
   "metadata": {},
   "source": [
    "#### Obligation_Category"
   ]
  },
  {
   "cell_type": "code",
   "execution_count": 60,
   "id": "e4347f2e-d427-4f45-bf39-ee6d70087aec",
   "metadata": {},
   "outputs": [
    {
     "data": {
      "text/plain": [
       "Obligation_Category\n",
       "Q2    238\n",
       "Q3    231\n",
       "Q1    226\n",
       "Q4    217\n",
       "Name: count, dtype: int64"
      ]
     },
     "execution_count": 60,
     "metadata": {},
     "output_type": "execute_result"
    }
   ],
   "source": [
    "df_cat.Obligation_Category.value_counts()\n",
    "\n",
    "#if there is space in column name then use \n",
    "# df_cat['Obligation_Category'].values_counts()"
   ]
  },
  {
   "cell_type": "code",
   "execution_count": 61,
   "id": "f1cea981-69c4-42b1-81eb-d2e4ea0ba506",
   "metadata": {},
   "outputs": [
    {
     "data": {
      "image/png": "[encoded data removed]",
      "text/plain": [
       "<Figure size 640x480 with 1 Axes>"
      ]
     },
     "metadata": {},
     "output_type": "display_data"
    }
   ],
   "source": [
    "# show the plot\n",
    "df_cat.Obligation_Category.value_counts().plot(kind = 'bar',color='grey')\n",
    "plt.grid()\n",
    "plt.title('Count of Obligation_Category')\n",
    "plt.xticks(rotation = 70)\n",
    "plt.ylabel('count')\n",
    "plt.show()"
   ]
  },
  {
   "cell_type": "markdown",
   "id": "a4859716-f8e7-41b9-a70a-6aa40d2923a9",
   "metadata": {},
   "source": [
    "**interpretation**\n",
    " - Q2    238\n",
    " - Q3    231\n",
    " - Q1    226\n",
    " - Q4    217"
   ]
  },
  {
   "cell_type": "code",
   "execution_count": 62,
   "id": "f4629dc0-ad67-4f25-89df-0323293497f3",
   "metadata": {},
   "outputs": [
    {
     "data": {
      "text/plain": [
       "Index(['Gender', 'Occupation', 'State', 'Relationship_Status',\n",
       "       'Obligation_Category', 'Rest_and_relax', 'Luxury_be spoilt',\n",
       "       'Do_sports', 'excitement_a_challenge', 'Not_exceed_planned_budget',\n",
       "       'Realise_creativity', 'Fun_and_entertainment', 'Good_company',\n",
       "       'Health_and_beauty', 'Free_and_easy_going', 'Entertainment_facilities',\n",
       "       'Not_care_about_prices', 'Life_style_of_the_local_people',\n",
       "       'Intense_Experience_of_Nature', 'Cosiness_or_Familiar_Atmosphere',\n",
       "       'Maintain_Unspoilt_Surroundings', 'Everything_Organised',\n",
       "       'Unspoilt_Nature_or_Natural_Landscape', 'Cultural_Offers',\n",
       "       'Change_of_Surroundings'],\n",
       "      dtype='object')"
      ]
     },
     "execution_count": 62,
     "metadata": {},
     "output_type": "execute_result"
    }
   ],
   "source": [
    "# show the categorical columns\n",
    "df_cat.columns"
   ]
  },
  {
   "cell_type": "markdown",
   "id": "0f7bce73-e384-4936-a2e6-194a6280eca7",
   "metadata": {},
   "source": [
    "#### Rest_and_relax"
   ]
  },
  {
   "cell_type": "code",
   "execution_count": 63,
   "id": "69ded13e-f875-476d-bb23-1913643b3079",
   "metadata": {},
   "outputs": [
    {
     "data": {
      "text/plain": [
       "Rest_and_relax\n",
       "yes    825\n",
       "no      87\n",
       "Name: count, dtype: int64"
      ]
     },
     "execution_count": 63,
     "metadata": {},
     "output_type": "execute_result"
    }
   ],
   "source": [
    "df_cat.Rest_and_relax.value_counts()"
   ]
  },
  {
   "cell_type": "code",
   "execution_count": 64,
   "id": "768a8d45-0eff-4279-a350-7fa763e35bf9",
   "metadata": {},
   "outputs": [
    {
     "data": {
      "image/png": "[encoded data removed]",
      "text/plain": [
       "<Figure size 640x480 with 1 Axes>"
      ]
     },
     "metadata": {},
     "output_type": "display_data"
    }
   ],
   "source": [
    "# show the plot\n",
    "df_cat.Rest_and_relax.value_counts().plot(kind = 'bar',color='grey')\n",
    "plt.grid()\n",
    "plt.title('Count of Rest_and_relax')\n",
    "plt.xticks(rotation = 70)\n",
    "plt.ylabel('count')\n",
    "plt.show()"
   ]
  },
  {
   "cell_type": "markdown",
   "id": "eb423b3c-ef17-421a-bf76-cc24eaf79608",
   "metadata": {},
   "source": [
    "**interpretation**\n",
    " - yes    825\n",
    " - no      87"
   ]
  },
  {
   "cell_type": "code",
   "execution_count": 65,
   "id": "e454ceed-e1ea-409f-bd12-a62917b869d8",
   "metadata": {},
   "outputs": [
    {
     "data": {
      "text/plain": [
       "Index(['Gender', 'Occupation', 'State', 'Relationship_Status',\n",
       "       'Obligation_Category', 'Rest_and_relax', 'Luxury_be spoilt',\n",
       "       'Do_sports', 'excitement_a_challenge', 'Not_exceed_planned_budget',\n",
       "       'Realise_creativity', 'Fun_and_entertainment', 'Good_company',\n",
       "       'Health_and_beauty', 'Free_and_easy_going', 'Entertainment_facilities',\n",
       "       'Not_care_about_prices', 'Life_style_of_the_local_people',\n",
       "       'Intense_Experience_of_Nature', 'Cosiness_or_Familiar_Atmosphere',\n",
       "       'Maintain_Unspoilt_Surroundings', 'Everything_Organised',\n",
       "       'Unspoilt_Nature_or_Natural_Landscape', 'Cultural_Offers',\n",
       "       'Change_of_Surroundings'],\n",
       "      dtype='object')"
      ]
     },
     "execution_count": 65,
     "metadata": {},
     "output_type": "execute_result"
    }
   ],
   "source": [
    "# show the categorical columns\n",
    "df_cat.columns"
   ]
  },
  {
   "cell_type": "markdown",
   "id": "c667ec70-5401-4ee2-98e3-7eb40ca3ffb1",
   "metadata": {},
   "source": [
    "#### Luxury_be spoilt"
   ]
  },
  {
   "cell_type": "code",
   "execution_count": 66,
   "id": "936a7a44-671a-4500-af12-4c0f70cb97ea",
   "metadata": {},
   "outputs": [
    {
     "data": {
      "text/plain": [
       "Luxury_be spoilt\n",
       "no     659\n",
       "yes    253\n",
       "Name: count, dtype: int64"
      ]
     },
     "execution_count": 66,
     "metadata": {},
     "output_type": "execute_result"
    }
   ],
   "source": [
    "df_cat['Luxury_be spoilt'].value_counts()"
   ]
  },
  {
   "cell_type": "code",
   "execution_count": 67,
   "id": "7373cde2-383d-425a-9b65-483af53fcdd7",
   "metadata": {},
   "outputs": [
    {
     "data": {
      "image/png": "[encoded data removed]",
      "text/plain": [
       "<Figure size 640x480 with 1 Axes>"
      ]
     },
     "metadata": {},
     "output_type": "display_data"
    }
   ],
   "source": [
    "# show the plot\n",
    "df_cat['Luxury_be spoilt'].value_counts().plot(kind = 'bar',color='grey')\n",
    "plt.grid()\n",
    "plt.title('Count of Luxury_be spoilt')\n",
    "plt.xticks(rotation = 70)\n",
    "plt.ylabel('count')\n",
    "plt.show()"
   ]
  },
  {
   "cell_type": "markdown",
   "id": "e1f5be34-fd31-4d4f-a5c9-113e59f9e1dd",
   "metadata": {},
   "source": [
    "**interpretation**\n",
    " - no     659\n",
    " - yes    253"
   ]
  },
  {
   "cell_type": "code",
   "execution_count": 68,
   "id": "5228ddb1-6bf6-469d-b046-7751608c8ce2",
   "metadata": {},
   "outputs": [
    {
     "data": {
      "text/plain": [
       "Index(['Gender', 'Occupation', 'State', 'Relationship_Status',\n",
       "       'Obligation_Category', 'Rest_and_relax', 'Luxury_be spoilt',\n",
       "       'Do_sports', 'excitement_a_challenge', 'Not_exceed_planned_budget',\n",
       "       'Realise_creativity', 'Fun_and_entertainment', 'Good_company',\n",
       "       'Health_and_beauty', 'Free_and_easy_going', 'Entertainment_facilities',\n",
       "       'Not_care_about_prices', 'Life_style_of_the_local_people',\n",
       "       'Intense_Experience_of_Nature', 'Cosiness_or_Familiar_Atmosphere',\n",
       "       'Maintain_Unspoilt_Surroundings', 'Everything_Organised',\n",
       "       'Unspoilt_Nature_or_Natural_Landscape', 'Cultural_Offers',\n",
       "       'Change_of_Surroundings'],\n",
       "      dtype='object')"
      ]
     },
     "execution_count": 68,
     "metadata": {},
     "output_type": "execute_result"
    }
   ],
   "source": [
    "# show the categorical columns\n",
    "df_cat.columns"
   ]
  },
  {
   "cell_type": "markdown",
   "id": "135250c7-68b3-4c3a-8634-b0019ec42470",
   "metadata": {},
   "source": [
    "#### Do_sports"
   ]
  },
  {
   "cell_type": "code",
   "execution_count": 69,
   "id": "2e7f24fd-42b5-4d1f-974c-b5ac37e840f6",
   "metadata": {},
   "outputs": [
    {
     "data": {
      "text/plain": [
       "Do_sports\n",
       "no     784\n",
       "yes    128\n",
       "Name: count, dtype: int64"
      ]
     },
     "execution_count": 69,
     "metadata": {},
     "output_type": "execute_result"
    }
   ],
   "source": [
    "df_cat['Do_sports'].value_counts()"
   ]
  },
  {
   "cell_type": "code",
   "execution_count": 70,
   "id": "74b16220-2a6c-4a1c-800b-5e660bcac29b",
   "metadata": {},
   "outputs": [
    {
     "data": {
      "image/png": "[encoded data removed]",
      "text/plain": [
       "<Figure size 640x480 with 1 Axes>"
      ]
     },
     "metadata": {},
     "output_type": "display_data"
    }
   ],
   "source": [
    "# show the plot\n",
    "df_cat['Do_sports'].value_counts().plot(kind = 'bar',color='grey')\n",
    "plt.grid()\n",
    "plt.title('Count of Do_sports')\n",
    "plt.xticks(rotation = 0)\n",
    "plt.ylabel('count')\n",
    "plt.show()"
   ]
  },
  {
   "cell_type": "markdown",
   "id": "644f9620-0b3a-44d2-b538-13355b3cda2d",
   "metadata": {},
   "source": [
    "**interpretation**\n",
    " - no     784\n",
    " - yes    128"
   ]
  },
  {
   "cell_type": "code",
   "execution_count": 71,
   "id": "8c454791-bdd9-426c-ac7a-164e3af571a1",
   "metadata": {},
   "outputs": [
    {
     "data": {
      "text/plain": [
       "Index(['Gender', 'Occupation', 'State', 'Relationship_Status',\n",
       "       'Obligation_Category', 'Rest_and_relax', 'Luxury_be spoilt',\n",
       "       'Do_sports', 'excitement_a_challenge', 'Not_exceed_planned_budget',\n",
       "       'Realise_creativity', 'Fun_and_entertainment', 'Good_company',\n",
       "       'Health_and_beauty', 'Free_and_easy_going', 'Entertainment_facilities',\n",
       "       'Not_care_about_prices', 'Life_style_of_the_local_people',\n",
       "       'Intense_Experience_of_Nature', 'Cosiness_or_Familiar_Atmosphere',\n",
       "       'Maintain_Unspoilt_Surroundings', 'Everything_Organised',\n",
       "       'Unspoilt_Nature_or_Natural_Landscape', 'Cultural_Offers',\n",
       "       'Change_of_Surroundings'],\n",
       "      dtype='object')"
      ]
     },
     "execution_count": 71,
     "metadata": {},
     "output_type": "execute_result"
    }
   ],
   "source": [
    "# show the categorical columns\n",
    "df_cat.columns"
   ]
  },
  {
   "cell_type": "markdown",
   "id": "7a19dee9-1610-48fa-b7ee-e016acdb9db6",
   "metadata": {},
   "source": [
    "#### excitement_a_challenge"
   ]
  },
  {
   "cell_type": "code",
   "execution_count": 72,
   "id": "7f3de0e7-4561-402b-88fa-5b657d0e25ac",
   "metadata": {},
   "outputs": [
    {
     "data": {
      "text/plain": [
       "excitement_a_challenge\n",
       "no     601\n",
       "yes    311\n",
       "Name: count, dtype: int64"
      ]
     },
     "execution_count": 72,
     "metadata": {},
     "output_type": "execute_result"
    }
   ],
   "source": [
    "df_cat['excitement_a_challenge'].value_counts()"
   ]
  },
  {
   "cell_type": "code",
   "execution_count": 73,
   "id": "4f3a1d46-2201-48fe-ad75-de1b402fb938",
   "metadata": {},
   "outputs": [
    {
     "data": {
      "image/png": "[encoded data removed]",
      "text/plain": [
       "<Figure size 640x480 with 1 Axes>"
      ]
     },
     "metadata": {},
     "output_type": "display_data"
    }
   ],
   "source": [
    "# show the plot\n",
    "df_cat['excitement_a_challenge'].value_counts().plot(kind = 'bar',color='grey')\n",
    "plt.grid()\n",
    "plt.title('Count of excitement_a_challenge')\n",
    "plt.xticks(rotation = 0)\n",
    "plt.ylabel('count')\n",
    "plt.show()"
   ]
  },
  {
   "cell_type": "markdown",
   "id": "75c76ff5-3147-4939-b12b-ecd420122145",
   "metadata": {},
   "source": [
    "**interpretation**\n",
    " - no     601\n",
    " - yes    311"
   ]
  },
  {
   "cell_type": "code",
   "execution_count": 74,
   "id": "5450c080-a901-410b-8bf0-6b53dba22434",
   "metadata": {},
   "outputs": [
    {
     "data": {
      "text/plain": [
       "Index(['Gender', 'Occupation', 'State', 'Relationship_Status',\n",
       "       'Obligation_Category', 'Rest_and_relax', 'Luxury_be spoilt',\n",
       "       'Do_sports', 'excitement_a_challenge', 'Not_exceed_planned_budget',\n",
       "       'Realise_creativity', 'Fun_and_entertainment', 'Good_company',\n",
       "       'Health_and_beauty', 'Free_and_easy_going', 'Entertainment_facilities',\n",
       "       'Not_care_about_prices', 'Life_style_of_the_local_people',\n",
       "       'Intense_Experience_of_Nature', 'Cosiness_or_Familiar_Atmosphere',\n",
       "       'Maintain_Unspoilt_Surroundings', 'Everything_Organised',\n",
       "       'Unspoilt_Nature_or_Natural_Landscape', 'Cultural_Offers',\n",
       "       'Change_of_Surroundings'],\n",
       "      dtype='object')"
      ]
     },
     "execution_count": 74,
     "metadata": {},
     "output_type": "execute_result"
    }
   ],
   "source": [
    "# show the categorical columns\n",
    "df_cat.columns"
   ]
  },
  {
   "cell_type": "markdown",
   "id": "e611ab7a-e5ab-4411-9056-5693d8551ded",
   "metadata": {},
   "source": [
    "#### Not_exceed_planned_budget"
   ]
  },
  {
   "cell_type": "code",
   "execution_count": 75,
   "id": "8f768e61-d99a-46fa-92bf-4bcaf1586480",
   "metadata": {},
   "outputs": [
    {
     "data": {
      "text/plain": [
       "Not_exceed_planned_budget\n",
       "yes    470\n",
       "no     442\n",
       "Name: count, dtype: int64"
      ]
     },
     "execution_count": 75,
     "metadata": {},
     "output_type": "execute_result"
    }
   ],
   "source": [
    "df_cat['Not_exceed_planned_budget'].value_counts()"
   ]
  },
  {
   "cell_type": "code",
   "execution_count": 76,
   "id": "551711dc-b3bb-43ad-85d2-5bab45b78106",
   "metadata": {},
   "outputs": [
    {
     "data": {
      "image/png": "[encoded data removed]",
      "text/plain": [
       "<Figure size 640x480 with 1 Axes>"
      ]
     },
     "metadata": {},
     "output_type": "display_data"
    }
   ],
   "source": [
    "# show the plot\n",
    "df_cat['Not_exceed_planned_budget'].value_counts().plot(kind = 'bar',color='grey')\n",
    "plt.grid()\n",
    "plt.title('Count of Not_exceed_planned_budget')\n",
    "plt.xticks(rotation = 0)\n",
    "plt.ylabel('count')\n",
    "plt.show()"
   ]
  },
  {
   "cell_type": "markdown",
   "id": "3ebe6102-c98f-4031-9613-8d79e60beda5",
   "metadata": {},
   "source": [
    "**interpretation**\n",
    " - yes    470\n",
    " - no     442"
   ]
  },
  {
   "cell_type": "code",
   "execution_count": 77,
   "id": "0ec90315-e8ab-448c-bc8e-378b38d5a20b",
   "metadata": {},
   "outputs": [
    {
     "data": {
      "text/plain": [
       "Index(['Gender', 'Occupation', 'State', 'Relationship_Status',\n",
       "       'Obligation_Category', 'Rest_and_relax', 'Luxury_be spoilt',\n",
       "       'Do_sports', 'excitement_a_challenge', 'Not_exceed_planned_budget',\n",
       "       'Realise_creativity', 'Fun_and_entertainment', 'Good_company',\n",
       "       'Health_and_beauty', 'Free_and_easy_going', 'Entertainment_facilities',\n",
       "       'Not_care_about_prices', 'Life_style_of_the_local_people',\n",
       "       'Intense_Experience_of_Nature', 'Cosiness_or_Familiar_Atmosphere',\n",
       "       'Maintain_Unspoilt_Surroundings', 'Everything_Organised',\n",
       "       'Unspoilt_Nature_or_Natural_Landscape', 'Cultural_Offers',\n",
       "       'Change_of_Surroundings'],\n",
       "      dtype='object')"
      ]
     },
     "execution_count": 77,
     "metadata": {},
     "output_type": "execute_result"
    }
   ],
   "source": [
    "# show the categorical columns\n",
    "df_cat.columns"
   ]
  },
  {
   "cell_type": "markdown",
   "id": "b28c0044-a90e-4839-b658-a132caa78591",
   "metadata": {},
   "source": [
    "#### Realise_creativity"
   ]
  },
  {
   "cell_type": "code",
   "execution_count": 78,
   "id": "e3262bff-9637-488d-bfa8-14d04695c207",
   "metadata": {},
   "outputs": [
    {
     "data": {
      "text/plain": [
       "Realise_creativity\n",
       "no     840\n",
       "yes     72\n",
       "Name: count, dtype: int64"
      ]
     },
     "execution_count": 78,
     "metadata": {},
     "output_type": "execute_result"
    }
   ],
   "source": [
    "df_cat['Realise_creativity'].value_counts()"
   ]
  },
  {
   "cell_type": "code",
   "execution_count": 79,
   "id": "6f240304-04f0-4d0c-af39-564f1db7f0b2",
   "metadata": {},
   "outputs": [
    {
     "data": {
      "image/png": "[encoded data removed]",
      "text/plain": [
       "<Figure size 640x480 with 1 Axes>"
      ]
     },
     "metadata": {},
     "output_type": "display_data"
    }
   ],
   "source": [
    "# show the plot\n",
    "df_cat['Realise_creativity'].value_counts().plot(kind = 'bar',color='grey')\n",
    "plt.grid()\n",
    "plt.title('Count of Realise_creativity')\n",
    "plt.xticks(rotation = 0)\n",
    "plt.ylabel('count')\n",
    "plt.show()"
   ]
  },
  {
   "cell_type": "markdown",
   "id": "07d7ee9b-7756-467e-bad7-690e9281afde",
   "metadata": {},
   "source": [
    "**interpretation**\n",
    " - no     840\n",
    " - yes     72"
   ]
  },
  {
   "cell_type": "code",
   "execution_count": 80,
   "id": "22ad67ee-06c9-4eb9-ac1f-7f52c3781a29",
   "metadata": {},
   "outputs": [
    {
     "data": {
      "text/plain": [
       "Index(['Gender', 'Occupation', 'State', 'Relationship_Status',\n",
       "       'Obligation_Category', 'Rest_and_relax', 'Luxury_be spoilt',\n",
       "       'Do_sports', 'excitement_a_challenge', 'Not_exceed_planned_budget',\n",
       "       'Realise_creativity', 'Fun_and_entertainment', 'Good_company',\n",
       "       'Health_and_beauty', 'Free_and_easy_going', 'Entertainment_facilities',\n",
       "       'Not_care_about_prices', 'Life_style_of_the_local_people',\n",
       "       'Intense_Experience_of_Nature', 'Cosiness_or_Familiar_Atmosphere',\n",
       "       'Maintain_Unspoilt_Surroundings', 'Everything_Organised',\n",
       "       'Unspoilt_Nature_or_Natural_Landscape', 'Cultural_Offers',\n",
       "       'Change_of_Surroundings'],\n",
       "      dtype='object')"
      ]
     },
     "execution_count": 80,
     "metadata": {},
     "output_type": "execute_result"
    }
   ],
   "source": [
    "# show the categorical columns\n",
    "df_cat.columns"
   ]
  },
  {
   "cell_type": "markdown",
   "id": "f53ff338-5582-4075-b0ef-45501e1a2bdf",
   "metadata": {},
   "source": [
    "#### Fun_and_entertainment"
   ]
  },
  {
   "cell_type": "code",
   "execution_count": 81,
   "id": "2851e202-feb9-4e0c-8ccf-4533ae6b090b",
   "metadata": {},
   "outputs": [
    {
     "data": {
      "text/plain": [
       "Fun_and_entertainment\n",
       "yes    490\n",
       "no     422\n",
       "Name: count, dtype: int64"
      ]
     },
     "execution_count": 81,
     "metadata": {},
     "output_type": "execute_result"
    }
   ],
   "source": [
    "df_cat['Fun_and_entertainment'].value_counts()"
   ]
  },
  {
   "cell_type": "code",
   "execution_count": 82,
   "id": "3c63d594-08a6-410e-adfb-461ce0a1471a",
   "metadata": {},
   "outputs": [
    {
     "data": {
      "image/png": "[encoded data removed]",
      "text/plain": [
       "<Figure size 640x480 with 1 Axes>"
      ]
     },
     "metadata": {},
     "output_type": "display_data"
    }
   ],
   "source": [
    "# show the plot\n",
    "df_cat['Fun_and_entertainment'].value_counts().plot(kind = 'bar',color='grey')\n",
    "plt.grid()\n",
    "plt.title('Count of Fun_and_entertainment')\n",
    "plt.xticks(rotation = 0)\n",
    "plt.ylabel('count')\n",
    "plt.show()"
   ]
  },
  {
   "cell_type": "markdown",
   "id": "62e6dd15-af6f-4393-9120-933d66f851db",
   "metadata": {},
   "source": [
    "**interpretation**\n",
    " - yes    490\n",
    " - no     422"
   ]
  },
  {
   "cell_type": "code",
   "execution_count": 83,
   "id": "24442715-5d0b-4562-aa40-1383f8b770cb",
   "metadata": {},
   "outputs": [
    {
     "data": {
      "text/plain": [
       "Index(['Gender', 'Occupation', 'State', 'Relationship_Status',\n",
       "       'Obligation_Category', 'Rest_and_relax', 'Luxury_be spoilt',\n",
       "       'Do_sports', 'excitement_a_challenge', 'Not_exceed_planned_budget',\n",
       "       'Realise_creativity', 'Fun_and_entertainment', 'Good_company',\n",
       "       'Health_and_beauty', 'Free_and_easy_going', 'Entertainment_facilities',\n",
       "       'Not_care_about_prices', 'Life_style_of_the_local_people',\n",
       "       'Intense_Experience_of_Nature', 'Cosiness_or_Familiar_Atmosphere',\n",
       "       'Maintain_Unspoilt_Surroundings', 'Everything_Organised',\n",
       "       'Unspoilt_Nature_or_Natural_Landscape', 'Cultural_Offers',\n",
       "       'Change_of_Surroundings'],\n",
       "      dtype='object')"
      ]
     },
     "execution_count": 83,
     "metadata": {},
     "output_type": "execute_result"
    }
   ],
   "source": [
    "# show the categorical columns\n",
    "df_cat.columns"
   ]
  },
  {
   "cell_type": "markdown",
   "id": "3267664f-3ebe-45db-b067-63c96959eab6",
   "metadata": {},
   "source": [
    "#### Good_company"
   ]
  },
  {
   "cell_type": "code",
   "execution_count": 84,
   "id": "68ea0b1d-e097-4ab3-be31-558bb7812702",
   "metadata": {},
   "outputs": [
    {
     "data": {
      "text/plain": [
       "Good_company\n",
       "no     483\n",
       "yes    429\n",
       "Name: count, dtype: int64"
      ]
     },
     "execution_count": 84,
     "metadata": {},
     "output_type": "execute_result"
    }
   ],
   "source": [
    "df_cat['Good_company'].value_counts()"
   ]
  },
  {
   "cell_type": "code",
   "execution_count": 85,
   "id": "b5f74892-f7bf-4a3f-a856-b5d7a9ad59c8",
   "metadata": {},
   "outputs": [
    {
     "data": {
      "image/png": "[encoded data removed]",
      "text/plain": [
       "<Figure size 640x480 with 1 Axes>"
      ]
     },
     "metadata": {},
     "output_type": "display_data"
    }
   ],
   "source": [
    "# show the plot\n",
    "df_cat['Good_company'].value_counts().plot(kind = 'bar',color='grey')\n",
    "plt.grid()\n",
    "plt.title('Count of Good_company')\n",
    "plt.xticks(rotation = 0)\n",
    "plt.ylabel('count')\n",
    "plt.show()"
   ]
  },
  {
   "cell_type": "markdown",
   "id": "7807b7ce-0266-4e37-af97-5e7ead592eb2",
   "metadata": {},
   "source": [
    "**interpretation**\n",
    " - no     483\n",
    " - yes    429"
   ]
  },
  {
   "cell_type": "code",
   "execution_count": 86,
   "id": "25fed9cb-ed77-4b23-8024-7ed87c28deaf",
   "metadata": {},
   "outputs": [
    {
     "data": {
      "text/plain": [
       "Index(['Gender', 'Occupation', 'State', 'Relationship_Status',\n",
       "       'Obligation_Category', 'Rest_and_relax', 'Luxury_be spoilt',\n",
       "       'Do_sports', 'excitement_a_challenge', 'Not_exceed_planned_budget',\n",
       "       'Realise_creativity', 'Fun_and_entertainment', 'Good_company',\n",
       "       'Health_and_beauty', 'Free_and_easy_going', 'Entertainment_facilities',\n",
       "       'Not_care_about_prices', 'Life_style_of_the_local_people',\n",
       "       'Intense_Experience_of_Nature', 'Cosiness_or_Familiar_Atmosphere',\n",
       "       'Maintain_Unspoilt_Surroundings', 'Everything_Organised',\n",
       "       'Unspoilt_Nature_or_Natural_Landscape', 'Cultural_Offers',\n",
       "       'Change_of_Surroundings'],\n",
       "      dtype='object')"
      ]
     },
     "execution_count": 86,
     "metadata": {},
     "output_type": "execute_result"
    }
   ],
   "source": [
    "# show the categorical columns\n",
    "df_cat.columns"
   ]
  },
  {
   "cell_type": "markdown",
   "id": "5acd559b-daf5-45be-948b-a19f8a41aafe",
   "metadata": {},
   "source": [
    "#### Health_and_beauty"
   ]
  },
  {
   "cell_type": "code",
   "execution_count": 87,
   "id": "a355eef3-cbe8-4cd7-b858-2e2299bac9d0",
   "metadata": {},
   "outputs": [
    {
     "data": {
      "text/plain": [
       "Health_and_beauty\n",
       "no     795\n",
       "yes    117\n",
       "Name: count, dtype: int64"
      ]
     },
     "execution_count": 87,
     "metadata": {},
     "output_type": "execute_result"
    }
   ],
   "source": [
    "df_cat['Health_and_beauty'].value_counts()"
   ]
  },
  {
   "cell_type": "code",
   "execution_count": 88,
   "id": "c6545aff-47a3-423e-bdb9-25260055165f",
   "metadata": {},
   "outputs": [
    {
     "data": {
      "image/png": "[encoded data removed]",
      "text/plain": [
       "<Figure size 640x480 with 1 Axes>"
      ]
     },
     "metadata": {},
     "output_type": "display_data"
    }
   ],
   "source": [
    "# show the plot\n",
    "df_cat['Health_and_beauty'].value_counts().plot(kind = 'bar',color='grey')\n",
    "plt.grid()\n",
    "plt.title('Count of Health_and_beauty')\n",
    "plt.xticks(rotation = 0)\n",
    "plt.ylabel('count')\n",
    "plt.show()"
   ]
  },
  {
   "cell_type": "markdown",
   "id": "c898a71a-3dfd-433c-9f78-a81db8ddb370",
   "metadata": {},
   "source": [
    "**interpretation**\n",
    " - no     795\n",
    " - yes    117"
   ]
  },
  {
   "cell_type": "code",
   "execution_count": 89,
   "id": "874a2189-690b-465e-8914-509dd562734e",
   "metadata": {},
   "outputs": [
    {
     "data": {
      "text/plain": [
       "Index(['Gender', 'Occupation', 'State', 'Relationship_Status',\n",
       "       'Obligation_Category', 'Rest_and_relax', 'Luxury_be spoilt',\n",
       "       'Do_sports', 'excitement_a_challenge', 'Not_exceed_planned_budget',\n",
       "       'Realise_creativity', 'Fun_and_entertainment', 'Good_company',\n",
       "       'Health_and_beauty', 'Free_and_easy_going', 'Entertainment_facilities',\n",
       "       'Not_care_about_prices', 'Life_style_of_the_local_people',\n",
       "       'Intense_Experience_of_Nature', 'Cosiness_or_Familiar_Atmosphere',\n",
       "       'Maintain_Unspoilt_Surroundings', 'Everything_Organised',\n",
       "       'Unspoilt_Nature_or_Natural_Landscape', 'Cultural_Offers',\n",
       "       'Change_of_Surroundings'],\n",
       "      dtype='object')"
      ]
     },
     "execution_count": 89,
     "metadata": {},
     "output_type": "execute_result"
    }
   ],
   "source": [
    "# show the categorical columns\n",
    "df_cat.columns"
   ]
  },
  {
   "cell_type": "markdown",
   "id": "ca22fc6e-7fa1-42a8-9fae-7336b617869b",
   "metadata": {},
   "source": [
    "#### Free_and_easy_going"
   ]
  },
  {
   "cell_type": "code",
   "execution_count": 90,
   "id": "f338dc84-f8d7-4499-bcba-77284319ea64",
   "metadata": {},
   "outputs": [
    {
     "data": {
      "text/plain": [
       "Free_and_easy_going\n",
       "yes    488\n",
       "no     424\n",
       "Name: count, dtype: int64"
      ]
     },
     "execution_count": 90,
     "metadata": {},
     "output_type": "execute_result"
    }
   ],
   "source": [
    "df_cat['Free_and_easy_going'].value_counts()"
   ]
  },
  {
   "cell_type": "code",
   "execution_count": 91,
   "id": "67488c31-df38-4541-b23b-5ec7c6132975",
   "metadata": {},
   "outputs": [
    {
     "data": {
      "image/png": "[encoded data removed]",
      "text/plain": [
       "<Figure size 640x480 with 1 Axes>"
      ]
     },
     "metadata": {},
     "output_type": "display_data"
    }
   ],
   "source": [
    "# show the plot\n",
    "df_cat['Free_and_easy_going'].value_counts().plot(kind = 'bar',color='grey')\n",
    "plt.grid()\n",
    "plt.title('Count of Free_and_easy_going')\n",
    "plt.xticks(rotation = 0)\n",
    "plt.ylabel('count')\n",
    "plt.show()"
   ]
  },
  {
   "cell_type": "markdown",
   "id": "c7404e7c-de63-4ae3-887b-1c60ca5b4aa1",
   "metadata": {},
   "source": [
    "**interpretation**\n",
    " - yes    488\n",
    " -  no    424"
   ]
  },
  {
   "cell_type": "code",
   "execution_count": 92,
   "id": "b29387ef-788b-468e-bf1a-b44875233a03",
   "metadata": {},
   "outputs": [
    {
     "data": {
      "text/plain": [
       "Index(['Gender', 'Occupation', 'State', 'Relationship_Status',\n",
       "       'Obligation_Category', 'Rest_and_relax', 'Luxury_be spoilt',\n",
       "       'Do_sports', 'excitement_a_challenge', 'Not_exceed_planned_budget',\n",
       "       'Realise_creativity', 'Fun_and_entertainment', 'Good_company',\n",
       "       'Health_and_beauty', 'Free_and_easy_going', 'Entertainment_facilities',\n",
       "       'Not_care_about_prices', 'Life_style_of_the_local_people',\n",
       "       'Intense_Experience_of_Nature', 'Cosiness_or_Familiar_Atmosphere',\n",
       "       'Maintain_Unspoilt_Surroundings', 'Everything_Organised',\n",
       "       'Unspoilt_Nature_or_Natural_Landscape', 'Cultural_Offers',\n",
       "       'Change_of_Surroundings'],\n",
       "      dtype='object')"
      ]
     },
     "execution_count": 92,
     "metadata": {},
     "output_type": "execute_result"
    }
   ],
   "source": [
    "# show the categorical columns\n",
    "df_cat.columns"
   ]
  },
  {
   "cell_type": "markdown",
   "id": "f141f7d8-f39c-4908-9f88-2fb2b48993f0",
   "metadata": {},
   "source": [
    "#### Entertainment_facilities"
   ]
  },
  {
   "cell_type": "code",
   "execution_count": 93,
   "id": "4c8d1cba-964e-4360-95f6-73b2d3104527",
   "metadata": {},
   "outputs": [
    {
     "data": {
      "text/plain": [
       "Entertainment_facilities\n",
       "no     737\n",
       "yes    175\n",
       "Name: count, dtype: int64"
      ]
     },
     "execution_count": 93,
     "metadata": {},
     "output_type": "execute_result"
    }
   ],
   "source": [
    "df_cat['Entertainment_facilities'].value_counts()"
   ]
  },
  {
   "cell_type": "code",
   "execution_count": 94,
   "id": "37fd0ca0-4326-43e7-980d-4c43d4dbb27d",
   "metadata": {},
   "outputs": [
    {
     "data": {
      "image/png": "[encoded data removed]",
      "text/plain": [
       "<Figure size 640x480 with 1 Axes>"
      ]
     },
     "metadata": {},
     "output_type": "display_data"
    }
   ],
   "source": [
    "# show the plot\n",
    "df_cat['Entertainment_facilities'].value_counts().plot(kind = 'bar',color='grey')\n",
    "plt.grid()\n",
    "plt.title('Count of Entertainment_facilities')\n",
    "plt.xticks(rotation = 0)\n",
    "plt.ylabel('count')\n",
    "plt.show()"
   ]
  },
  {
   "cell_type": "markdown",
   "id": "532ed1c5-6989-4069-975d-82083b892ded",
   "metadata": {},
   "source": [
    "**interpretation**\n",
    " - no     737\n",
    " - yes    175"
   ]
  },
  {
   "cell_type": "code",
   "execution_count": 95,
   "id": "a46d76be-23f2-4230-a65f-4cc773f3dd94",
   "metadata": {},
   "outputs": [
    {
     "data": {
      "text/plain": [
       "Index(['Gender', 'Occupation', 'State', 'Relationship_Status',\n",
       "       'Obligation_Category', 'Rest_and_relax', 'Luxury_be spoilt',\n",
       "       'Do_sports', 'excitement_a_challenge', 'Not_exceed_planned_budget',\n",
       "       'Realise_creativity', 'Fun_and_entertainment', 'Good_company',\n",
       "       'Health_and_beauty', 'Free_and_easy_going', 'Entertainment_facilities',\n",
       "       'Not_care_about_prices', 'Life_style_of_the_local_people',\n",
       "       'Intense_Experience_of_Nature', 'Cosiness_or_Familiar_Atmosphere',\n",
       "       'Maintain_Unspoilt_Surroundings', 'Everything_Organised',\n",
       "       'Unspoilt_Nature_or_Natural_Landscape', 'Cultural_Offers',\n",
       "       'Change_of_Surroundings'],\n",
       "      dtype='object')"
      ]
     },
     "execution_count": 95,
     "metadata": {},
     "output_type": "execute_result"
    }
   ],
   "source": [
    "# show the categorical columns\n",
    "df_cat.columns"
   ]
  },
  {
   "cell_type": "markdown",
   "id": "8bf75df6-d1f6-48af-a6d2-5caf717866e6",
   "metadata": {},
   "source": [
    "#### Not_care_about_prices"
   ]
  },
  {
   "cell_type": "code",
   "execution_count": 96,
   "id": "8c32e750-48c5-40bf-9154-61e25dfb5a77",
   "metadata": {},
   "outputs": [
    {
     "data": {
      "text/plain": [
       "Not_care_about_prices\n",
       "no     743\n",
       "yes    169\n",
       "Name: count, dtype: int64"
      ]
     },
     "execution_count": 96,
     "metadata": {},
     "output_type": "execute_result"
    }
   ],
   "source": [
    "df_cat['Not_care_about_prices'].value_counts()"
   ]
  },
  {
   "cell_type": "code",
   "execution_count": 97,
   "id": "019bab7a-f37b-4ce5-9cc0-9f8f998c0b22",
   "metadata": {},
   "outputs": [
    {
     "data": {
      "image/png": "[encoded data removed]",
      "text/plain": [
       "<Figure size 640x480 with 1 Axes>"
      ]
     },
     "metadata": {},
     "output_type": "display_data"
    }
   ],
   "source": [
    "# show the plot\n",
    "df_cat['Not_care_about_prices'].value_counts().plot(kind = 'bar',color='grey')\n",
    "plt.grid()\n",
    "plt.title('Count of Not_care_about_prices')\n",
    "plt.xticks(rotation = 0)\n",
    "plt.ylabel('count')\n",
    "plt.show()"
   ]
  },
  {
   "cell_type": "markdown",
   "id": "0705557c-ca60-4bbf-ba64-b908386d9557",
   "metadata": {},
   "source": [
    "**interpretation**\n",
    " - no     743\n",
    " - yes    169"
   ]
  },
  {
   "cell_type": "code",
   "execution_count": 98,
   "id": "7cdc0d6a-2d2c-44d3-9195-33aeed4aebe1",
   "metadata": {},
   "outputs": [
    {
     "data": {
      "text/plain": [
       "Index(['Gender', 'Occupation', 'State', 'Relationship_Status',\n",
       "       'Obligation_Category', 'Rest_and_relax', 'Luxury_be spoilt',\n",
       "       'Do_sports', 'excitement_a_challenge', 'Not_exceed_planned_budget',\n",
       "       'Realise_creativity', 'Fun_and_entertainment', 'Good_company',\n",
       "       'Health_and_beauty', 'Free_and_easy_going', 'Entertainment_facilities',\n",
       "       'Not_care_about_prices', 'Life_style_of_the_local_people',\n",
       "       'Intense_Experience_of_Nature', 'Cosiness_or_Familiar_Atmosphere',\n",
       "       'Maintain_Unspoilt_Surroundings', 'Everything_Organised',\n",
       "       'Unspoilt_Nature_or_Natural_Landscape', 'Cultural_Offers',\n",
       "       'Change_of_Surroundings'],\n",
       "      dtype='object')"
      ]
     },
     "execution_count": 98,
     "metadata": {},
     "output_type": "execute_result"
    }
   ],
   "source": [
    "# show the categorical columns\n",
    "df_cat.columns"
   ]
  },
  {
   "cell_type": "markdown",
   "id": "a9226de5-20a7-4f17-bc29-820f7b43c67a",
   "metadata": {},
   "source": [
    "#### Life_style_of_the_local_people"
   ]
  },
  {
   "cell_type": "code",
   "execution_count": 99,
   "id": "90d867e0-14ae-4bba-aa2c-d93c01298637",
   "metadata": {},
   "outputs": [
    {
     "data": {
      "text/plain": [
       "Life_style_of_the_local_people\n",
       "no     484\n",
       "yes    428\n",
       "Name: count, dtype: int64"
      ]
     },
     "execution_count": 99,
     "metadata": {},
     "output_type": "execute_result"
    }
   ],
   "source": [
    "df_cat['Life_style_of_the_local_people'].value_counts()"
   ]
  },
  {
   "cell_type": "code",
   "execution_count": 100,
   "id": "2ce4e5f6-729b-4dce-9f42-d0e322983f3c",
   "metadata": {},
   "outputs": [
    {
     "data": {
      "image/png": "[encoded data removed]",
      "text/plain": [
       "<Figure size 640x480 with 1 Axes>"
      ]
     },
     "metadata": {},
     "output_type": "display_data"
    }
   ],
   "source": [
    "# show the plot\n",
    "df_cat['Life_style_of_the_local_people'].value_counts().plot(kind = 'bar',color='grey')\n",
    "plt.grid()\n",
    "plt.title('Count of Life_style_of_the_local_people')\n",
    "plt.xticks(rotation = 0)\n",
    "plt.ylabel('count')\n",
    "plt.show()"
   ]
  },
  {
   "cell_type": "markdown",
   "id": "274ef485-3e69-4185-816e-add6c9af669e",
   "metadata": {},
   "source": [
    "**interpretation**\n",
    " - no     484\n",
    " - yes    428"
   ]
  },
  {
   "cell_type": "code",
   "execution_count": 101,
   "id": "1be65862-534a-4b47-b44d-55aea85e00bb",
   "metadata": {},
   "outputs": [
    {
     "data": {
      "text/plain": [
       "Index(['Gender', 'Occupation', 'State', 'Relationship_Status',\n",
       "       'Obligation_Category', 'Rest_and_relax', 'Luxury_be spoilt',\n",
       "       'Do_sports', 'excitement_a_challenge', 'Not_exceed_planned_budget',\n",
       "       'Realise_creativity', 'Fun_and_entertainment', 'Good_company',\n",
       "       'Health_and_beauty', 'Free_and_easy_going', 'Entertainment_facilities',\n",
       "       'Not_care_about_prices', 'Life_style_of_the_local_people',\n",
       "       'Intense_Experience_of_Nature', 'Cosiness_or_Familiar_Atmosphere',\n",
       "       'Maintain_Unspoilt_Surroundings', 'Everything_Organised',\n",
       "       'Unspoilt_Nature_or_Natural_Landscape', 'Cultural_Offers',\n",
       "       'Change_of_Surroundings'],\n",
       "      dtype='object')"
      ]
     },
     "execution_count": 101,
     "metadata": {},
     "output_type": "execute_result"
    }
   ],
   "source": [
    "# show the categorical columns\n",
    "df_cat.columns"
   ]
  },
  {
   "cell_type": "markdown",
   "id": "715e5a49-23fd-4b77-90d2-6bd51078043c",
   "metadata": {},
   "source": [
    "#### Intense_Experience_of_Nature"
   ]
  },
  {
   "cell_type": "code",
   "execution_count": 102,
   "id": "cc5a4169-931d-42a5-83b4-e235e89f103d",
   "metadata": {},
   "outputs": [
    {
     "data": {
      "text/plain": [
       "Intense_Experience_of_Nature\n",
       "no     715\n",
       "yes    197\n",
       "Name: count, dtype: int64"
      ]
     },
     "execution_count": 102,
     "metadata": {},
     "output_type": "execute_result"
    }
   ],
   "source": [
    "df_cat['Intense_Experience_of_Nature'].value_counts()"
   ]
  },
  {
   "cell_type": "code",
   "execution_count": 103,
   "id": "944cf870-ab46-4235-b0f0-5282c598dc73",
   "metadata": {},
   "outputs": [
    {
     "data": {
      "image/png": "[encoded data removed]",
      "text/plain": [
       "<Figure size 640x480 with 1 Axes>"
      ]
     },
     "metadata": {},
     "output_type": "display_data"
    }
   ],
   "source": [
    "# show the plot\n",
    "df_cat['Intense_Experience_of_Nature'].value_counts().plot(kind = 'bar',color='grey')\n",
    "plt.grid()\n",
    "plt.title('Count of Intense_Experience_of_Nature')\n",
    "plt.xticks(rotation = 0)\n",
    "plt.ylabel('count')\n",
    "plt.show()"
   ]
  },
  {
   "cell_type": "markdown",
   "id": "892bc432-4993-4351-9e09-328434394bd3",
   "metadata": {},
   "source": [
    "**interpretation**\n",
    " - no     715\n",
    " - yes    197"
   ]
  },
  {
   "cell_type": "code",
   "execution_count": 104,
   "id": "364f1c0f-d1ba-42e2-8f18-856fff507ee8",
   "metadata": {},
   "outputs": [
    {
     "data": {
      "text/plain": [
       "Index(['Gender', 'Occupation', 'State', 'Relationship_Status',\n",
       "       'Obligation_Category', 'Rest_and_relax', 'Luxury_be spoilt',\n",
       "       'Do_sports', 'excitement_a_challenge', 'Not_exceed_planned_budget',\n",
       "       'Realise_creativity', 'Fun_and_entertainment', 'Good_company',\n",
       "       'Health_and_beauty', 'Free_and_easy_going', 'Entertainment_facilities',\n",
       "       'Not_care_about_prices', 'Life_style_of_the_local_people',\n",
       "       'Intense_Experience_of_Nature', 'Cosiness_or_Familiar_Atmosphere',\n",
       "       'Maintain_Unspoilt_Surroundings', 'Everything_Organised',\n",
       "       'Unspoilt_Nature_or_Natural_Landscape', 'Cultural_Offers',\n",
       "       'Change_of_Surroundings'],\n",
       "      dtype='object')"
      ]
     },
     "execution_count": 104,
     "metadata": {},
     "output_type": "execute_result"
    }
   ],
   "source": [
    "# show the categorical columns\n",
    "df_cat.columns"
   ]
  },
  {
   "cell_type": "markdown",
   "id": "1caee7e7-55ee-4a16-be0d-e16e942fa401",
   "metadata": {},
   "source": [
    "#### Cosiness_or_Familiar_Atmosphere"
   ]
  },
  {
   "cell_type": "code",
   "execution_count": 105,
   "id": "fa3f35a5-0728-45de-b871-2747f2136425",
   "metadata": {},
   "outputs": [
    {
     "data": {
      "text/plain": [
       "Cosiness_or_Familiar_Atmosphere\n",
       "no     744\n",
       "yes    168\n",
       "Name: count, dtype: int64"
      ]
     },
     "execution_count": 105,
     "metadata": {},
     "output_type": "execute_result"
    }
   ],
   "source": [
    "df_cat['Cosiness_or_Familiar_Atmosphere'].value_counts()"
   ]
  },
  {
   "cell_type": "code",
   "execution_count": 106,
   "id": "fae24492-ee55-4b31-837e-911cfcfb4e48",
   "metadata": {},
   "outputs": [
    {
     "data": {
      "image/png": "[encoded data removed]",
      "text/plain": [
       "<Figure size 640x480 with 1 Axes>"
      ]
     },
     "metadata": {},
     "output_type": "display_data"
    }
   ],
   "source": [
    "# show the plot\n",
    "df_cat['Cosiness_or_Familiar_Atmosphere'].value_counts().plot(kind = 'bar',color='grey')\n",
    "plt.grid()\n",
    "plt.title('Count of Cosiness_or_Familiar_Atmosphere')\n",
    "plt.xticks(rotation = 0)\n",
    "plt.ylabel('count')\n",
    "plt.show()"
   ]
  },
  {
   "cell_type": "markdown",
   "id": "02a03df1-a17c-444d-87ac-95c05bd8799d",
   "metadata": {},
   "source": [
    "**interpretation**\n",
    " - no     744\n",
    " - yes    168"
   ]
  },
  {
   "cell_type": "code",
   "execution_count": 107,
   "id": "0ba4a6ea-292f-4a1f-8ae4-c35d93d799a6",
   "metadata": {},
   "outputs": [
    {
     "data": {
      "text/plain": [
       "Index(['Gender', 'Occupation', 'State', 'Relationship_Status',\n",
       "       'Obligation_Category', 'Rest_and_relax', 'Luxury_be spoilt',\n",
       "       'Do_sports', 'excitement_a_challenge', 'Not_exceed_planned_budget',\n",
       "       'Realise_creativity', 'Fun_and_entertainment', 'Good_company',\n",
       "       'Health_and_beauty', 'Free_and_easy_going', 'Entertainment_facilities',\n",
       "       'Not_care_about_prices', 'Life_style_of_the_local_people',\n",
       "       'Intense_Experience_of_Nature', 'Cosiness_or_Familiar_Atmosphere',\n",
       "       'Maintain_Unspoilt_Surroundings', 'Everything_Organised',\n",
       "       'Unspoilt_Nature_or_Natural_Landscape', 'Cultural_Offers',\n",
       "       'Change_of_Surroundings'],\n",
       "      dtype='object')"
      ]
     },
     "execution_count": 107,
     "metadata": {},
     "output_type": "execute_result"
    }
   ],
   "source": [
    "# show the categorical columns\n",
    "df_cat.columns"
   ]
  },
  {
   "cell_type": "markdown",
   "id": "e51239c0-fb55-4623-a005-bbb57c36b350",
   "metadata": {},
   "source": [
    "#### Maintain_Unspoilt_Surroundings"
   ]
  },
  {
   "cell_type": "code",
   "execution_count": 108,
   "id": "1765859d-92a7-44a1-8d4e-fec5f30b6d53",
   "metadata": {},
   "outputs": [
    {
     "data": {
      "text/plain": [
       "Maintain_Unspoilt_Surroundings\n",
       "no     631\n",
       "yes    281\n",
       "Name: count, dtype: int64"
      ]
     },
     "execution_count": 108,
     "metadata": {},
     "output_type": "execute_result"
    }
   ],
   "source": [
    "df_cat['Maintain_Unspoilt_Surroundings'].value_counts()"
   ]
  },
  {
   "cell_type": "code",
   "execution_count": 109,
   "id": "a3cb9cff-3ced-4a9a-958a-302ae6ab64b4",
   "metadata": {},
   "outputs": [
    {
     "data": {
      "image/png": "[encoded data removed]",
      "text/plain": [
       "<Figure size 640x480 with 1 Axes>"
      ]
     },
     "metadata": {},
     "output_type": "display_data"
    }
   ],
   "source": [
    "# show the plot\n",
    "df_cat['Maintain_Unspoilt_Surroundings'].value_counts().plot(kind = 'bar',color='grey')\n",
    "plt.grid()\n",
    "plt.title('Count of Maintain_Unspoilt_Surroundings')\n",
    "plt.xticks(rotation = 0)\n",
    "plt.ylabel('count')\n",
    "plt.show()"
   ]
  },
  {
   "cell_type": "markdown",
   "id": "bf3069b5-c77b-4db6-bcba-357aa798edba",
   "metadata": {},
   "source": [
    "**interpretation**\n",
    " - no     631\n",
    " - yes    281"
   ]
  },
  {
   "cell_type": "markdown",
   "id": "ce7d6641-a3c2-4c91-9bfe-8fbbe62b7c5e",
   "metadata": {},
   "source": [
    "#### Everything_Organised"
   ]
  },
  {
   "cell_type": "code",
   "execution_count": 110,
   "id": "2e2ac8d7-b9a0-496a-8d2d-5b556b1b6742",
   "metadata": {},
   "outputs": [
    {
     "data": {
      "text/plain": [
       "Everything_Organised\n",
       "no     764\n",
       "yes    148\n",
       "Name: count, dtype: int64"
      ]
     },
     "execution_count": 110,
     "metadata": {},
     "output_type": "execute_result"
    }
   ],
   "source": [
    "df_cat['Everything_Organised'].value_counts()"
   ]
  },
  {
   "cell_type": "code",
   "execution_count": 111,
   "id": "07cfbbd7-5bd1-4590-9ae2-bfe137fc0cf4",
   "metadata": {},
   "outputs": [
    {
     "data": {
      "image/png": "[encoded data removed]",
      "text/plain": [
       "<Figure size 640x480 with 1 Axes>"
      ]
     },
     "metadata": {},
     "output_type": "display_data"
    }
   ],
   "source": [
    "# show the plot\n",
    "df_cat['Everything_Organised'].value_counts().plot(kind = 'bar',color='grey')\n",
    "plt.grid()\n",
    "plt.title('Count of Everything_Organised')\n",
    "plt.xticks(rotation = 0)\n",
    "plt.ylabel('count')\n",
    "plt.show()"
   ]
  },
  {
   "cell_type": "markdown",
   "id": "04383388-7a0f-4348-b90e-70845cf0818b",
   "metadata": {},
   "source": [
    "**interpretation**\n",
    " - no     764\n",
    " - yes    148"
   ]
  },
  {
   "cell_type": "code",
   "execution_count": 112,
   "id": "2fe8a935-d76e-4ac1-b395-ca232d2303e6",
   "metadata": {},
   "outputs": [
    {
     "data": {
      "text/plain": [
       "Index(['Gender', 'Occupation', 'State', 'Relationship_Status',\n",
       "       'Obligation_Category', 'Rest_and_relax', 'Luxury_be spoilt',\n",
       "       'Do_sports', 'excitement_a_challenge', 'Not_exceed_planned_budget',\n",
       "       'Realise_creativity', 'Fun_and_entertainment', 'Good_company',\n",
       "       'Health_and_beauty', 'Free_and_easy_going', 'Entertainment_facilities',\n",
       "       'Not_care_about_prices', 'Life_style_of_the_local_people',\n",
       "       'Intense_Experience_of_Nature', 'Cosiness_or_Familiar_Atmosphere',\n",
       "       'Maintain_Unspoilt_Surroundings', 'Everything_Organised',\n",
       "       'Unspoilt_Nature_or_Natural_Landscape', 'Cultural_Offers',\n",
       "       'Change_of_Surroundings'],\n",
       "      dtype='object')"
      ]
     },
     "execution_count": 112,
     "metadata": {},
     "output_type": "execute_result"
    }
   ],
   "source": [
    "# show the categorical columns\n",
    "df_cat.columns"
   ]
  },
  {
   "cell_type": "markdown",
   "id": "025c43a4-ae01-4d44-a170-f3e79c290b0f",
   "metadata": {},
   "source": [
    "#### Unspoilt_Nature_or_Natural_Landscape"
   ]
  },
  {
   "cell_type": "code",
   "execution_count": 113,
   "id": "1ed23bcd-0a10-4014-a461-64a244e6f824",
   "metadata": {},
   "outputs": [
    {
     "data": {
      "text/plain": [
       "Unspoilt_Nature_or_Natural_Landscape\n",
       "no     669\n",
       "yes    243\n",
       "Name: count, dtype: int64"
      ]
     },
     "execution_count": 113,
     "metadata": {},
     "output_type": "execute_result"
    }
   ],
   "source": [
    "df_cat['Unspoilt_Nature_or_Natural_Landscape'].value_counts()"
   ]
  },
  {
   "cell_type": "code",
   "execution_count": 114,
   "id": "97140360-353c-4228-8a83-1edab68848a1",
   "metadata": {},
   "outputs": [
    {
     "data": {
      "image/png": "[encoded data removed]",
      "text/plain": [
       "<Figure size 640x480 with 1 Axes>"
      ]
     },
     "metadata": {},
     "output_type": "display_data"
    }
   ],
   "source": [
    "# show the plot\n",
    "df_cat['Unspoilt_Nature_or_Natural_Landscape'].value_counts().plot(kind = 'bar',color='grey')\n",
    "plt.grid()\n",
    "plt.title('Count of Unspoilt_Nature_or_Natural_Landscape')\n",
    "plt.xticks(rotation = 0)\n",
    "plt.ylabel('count')\n",
    "plt.show()"
   ]
  },
  {
   "cell_type": "markdown",
   "id": "95603e72-1cca-4379-b423-85389dc071da",
   "metadata": {},
   "source": [
    "**interpretation**\n",
    " - no     669\n",
    " - yes    243"
   ]
  },
  {
   "cell_type": "code",
   "execution_count": 115,
   "id": "ada78649-95bf-4065-9043-16e2d5ee8a00",
   "metadata": {},
   "outputs": [
    {
     "data": {
      "text/plain": [
       "Index(['Gender', 'Occupation', 'State', 'Relationship_Status',\n",
       "       'Obligation_Category', 'Rest_and_relax', 'Luxury_be spoilt',\n",
       "       'Do_sports', 'excitement_a_challenge', 'Not_exceed_planned_budget',\n",
       "       'Realise_creativity', 'Fun_and_entertainment', 'Good_company',\n",
       "       'Health_and_beauty', 'Free_and_easy_going', 'Entertainment_facilities',\n",
       "       'Not_care_about_prices', 'Life_style_of_the_local_people',\n",
       "       'Intense_Experience_of_Nature', 'Cosiness_or_Familiar_Atmosphere',\n",
       "       'Maintain_Unspoilt_Surroundings', 'Everything_Organised',\n",
       "       'Unspoilt_Nature_or_Natural_Landscape', 'Cultural_Offers',\n",
       "       'Change_of_Surroundings'],\n",
       "      dtype='object')"
      ]
     },
     "execution_count": 115,
     "metadata": {},
     "output_type": "execute_result"
    }
   ],
   "source": [
    "# show the categorical columns\n",
    "df_cat.columns"
   ]
  },
  {
   "cell_type": "markdown",
   "id": "3466bbb5-d344-4696-a92e-46935e97b607",
   "metadata": {},
   "source": [
    "#### Cultural_Offers"
   ]
  },
  {
   "cell_type": "code",
   "execution_count": 116,
   "id": "89c332f4-1529-4e76-a03c-362ceadd9226",
   "metadata": {},
   "outputs": [
    {
     "data": {
      "text/plain": [
       "Cultural_Offers\n",
       "no     655\n",
       "yes    257\n",
       "Name: count, dtype: int64"
      ]
     },
     "execution_count": 116,
     "metadata": {},
     "output_type": "execute_result"
    }
   ],
   "source": [
    "df_cat['Cultural_Offers'].value_counts()"
   ]
  },
  {
   "cell_type": "code",
   "execution_count": 117,
   "id": "230a0c9c-0e7f-4040-9c59-0b8fe200cadf",
   "metadata": {},
   "outputs": [
    {
     "data": {
      "image/png": "[encoded data removed]",
      "text/plain": [
       "<Figure size 640x480 with 1 Axes>"
      ]
     },
     "metadata": {},
     "output_type": "display_data"
    }
   ],
   "source": [
    "# show the plot\n",
    "df_cat['Cultural_Offers'].value_counts().plot(kind = 'bar',color='grey')\n",
    "plt.grid()\n",
    "plt.title('Count of Cultural_Offers')\n",
    "plt.xticks(rotation = 0)\n",
    "plt.ylabel('count')\n",
    "plt.show()"
   ]
  },
  {
   "cell_type": "markdown",
   "id": "24020d46-db58-486c-88ab-035332014905",
   "metadata": {},
   "source": [
    "**interpretation**\n",
    " - no     655\n",
    " - yes    257"
   ]
  },
  {
   "cell_type": "code",
   "execution_count": 118,
   "id": "5ee596d1-b6da-4167-9279-156f68849c4d",
   "metadata": {},
   "outputs": [
    {
     "data": {
      "text/plain": [
       "Index(['Gender', 'Occupation', 'State', 'Relationship_Status',\n",
       "       'Obligation_Category', 'Rest_and_relax', 'Luxury_be spoilt',\n",
       "       'Do_sports', 'excitement_a_challenge', 'Not_exceed_planned_budget',\n",
       "       'Realise_creativity', 'Fun_and_entertainment', 'Good_company',\n",
       "       'Health_and_beauty', 'Free_and_easy_going', 'Entertainment_facilities',\n",
       "       'Not_care_about_prices', 'Life_style_of_the_local_people',\n",
       "       'Intense_Experience_of_Nature', 'Cosiness_or_Familiar_Atmosphere',\n",
       "       'Maintain_Unspoilt_Surroundings', 'Everything_Organised',\n",
       "       'Unspoilt_Nature_or_Natural_Landscape', 'Cultural_Offers',\n",
       "       'Change_of_Surroundings'],\n",
       "      dtype='object')"
      ]
     },
     "execution_count": 118,
     "metadata": {},
     "output_type": "execute_result"
    }
   ],
   "source": [
    "# show the categorical columns\n",
    "df_cat.columns"
   ]
  },
  {
   "cell_type": "markdown",
   "id": "90eabfac-b5e6-4dd8-9506-6949429012f1",
   "metadata": {},
   "source": [
    "#### Change_of_Surroundings"
   ]
  },
  {
   "cell_type": "code",
   "execution_count": 119,
   "id": "3f0a49a8-37a6-4fce-97c5-6a2dcec9314a",
   "metadata": {},
   "outputs": [
    {
     "data": {
      "text/plain": [
       "Change_of_Surroundings\n",
       "yes    623\n",
       "no     289\n",
       "Name: count, dtype: int64"
      ]
     },
     "execution_count": 119,
     "metadata": {},
     "output_type": "execute_result"
    }
   ],
   "source": [
    "df_cat['Change_of_Surroundings'].value_counts()"
   ]
  },
  {
   "cell_type": "code",
   "execution_count": 120,
   "id": "5c0df9d2-309e-42e3-bc26-3e7b9fe79dca",
   "metadata": {},
   "outputs": [
    {
     "data": {
      "image/png": "[encoded data removed]",
      "text/plain": [
       "<Figure size 640x480 with 1 Axes>"
      ]
     },
     "metadata": {},
     "output_type": "display_data"
    }
   ],
   "source": [
    "# show the plot\n",
    "df_cat['Change_of_Surroundings'].value_counts().plot(kind = 'bar',color='grey')\n",
    "plt.grid()\n",
    "plt.title('Count of Change_of_Surroundings')\n",
    "plt.xticks(rotation = 0)\n",
    "plt.ylabel('count')\n",
    "plt.show()"
   ]
  },
  {
   "cell_type": "markdown",
   "id": "5d5a679a-f779-4dd7-a91e-e45a34ae284e",
   "metadata": {},
   "source": [
    "**interpretation**\n",
    " - yes    623\n",
    " - no     289"
   ]
  },
  {
   "cell_type": "markdown",
   "id": "bebdd633-c352-41e4-aed2-ec306b456a46",
   "metadata": {},
   "source": [
    "# Bivariate Analysis"
   ]
  },
  {
   "cell_type": "code",
   "execution_count": 121,
   "id": "694c97c2-a7ac-486b-bf5e-cca7b58b6ac0",
   "metadata": {},
   "outputs": [
    {
     "data": {
      "text/html": [
       "<div>\n",
       "<style scoped>\n",
       "    .dataframe tbody tr th:only-of-type {\n",
       "        vertical-align: middle;\n",
       "    }\n",
       "\n",
       "    .dataframe tbody tr th {\n",
       "        vertical-align: top;\n",
       "    }\n",
       "\n",
       "    .dataframe thead th {\n",
       "        text-align: right;\n",
       "    }\n",
       "</style>\n",
       "<table border=\"1\" class=\"dataframe\">\n",
       "  <thead>\n",
       "    <tr style=\"text-align: right;\">\n",
       "      <th></th>\n",
       "      <th>Gender</th>\n",
       "      <th>Age</th>\n",
       "      <th>Education</th>\n",
       "      <th>Occupation</th>\n",
       "      <th>State</th>\n",
       "      <th>Relationship_Status</th>\n",
       "      <th>Obligation_Rating</th>\n",
       "      <th>Obligation_Category</th>\n",
       "      <th>NEP</th>\n",
       "      <th>Vacation_Behaviour</th>\n",
       "      <th>...</th>\n",
       "      <th>Entertainment_facilities</th>\n",
       "      <th>Not_care_about_prices</th>\n",
       "      <th>Life_style_of_the_local_people</th>\n",
       "      <th>Intense_Experience_of_Nature</th>\n",
       "      <th>Cosiness_or_Familiar_Atmosphere</th>\n",
       "      <th>Maintain_Unspoilt_Surroundings</th>\n",
       "      <th>Everything_Organised</th>\n",
       "      <th>Unspoilt_Nature_or_Natural_Landscape</th>\n",
       "      <th>Cultural_Offers</th>\n",
       "      <th>Change_of_Surroundings</th>\n",
       "    </tr>\n",
       "  </thead>\n",
       "  <tbody>\n",
       "    <tr>\n",
       "      <th>0</th>\n",
       "      <td>Female</td>\n",
       "      <td>25</td>\n",
       "      <td>6.0</td>\n",
       "      <td>Clerical or service worker</td>\n",
       "      <td>VIC</td>\n",
       "      <td>single</td>\n",
       "      <td>4.800</td>\n",
       "      <td>Q4</td>\n",
       "      <td>3.200</td>\n",
       "      <td>2.067</td>\n",
       "      <td>...</td>\n",
       "      <td>no</td>\n",
       "      <td>no</td>\n",
       "      <td>no</td>\n",
       "      <td>no</td>\n",
       "      <td>no</td>\n",
       "      <td>no</td>\n",
       "      <td>no</td>\n",
       "      <td>no</td>\n",
       "      <td>no</td>\n",
       "      <td>no</td>\n",
       "    </tr>\n",
       "    <tr>\n",
       "      <th>1</th>\n",
       "      <td>Female</td>\n",
       "      <td>31</td>\n",
       "      <td>8.0</td>\n",
       "      <td>professional</td>\n",
       "      <td>WA</td>\n",
       "      <td>married</td>\n",
       "      <td>3.300</td>\n",
       "      <td>Q1</td>\n",
       "      <td>3.400</td>\n",
       "      <td>2.000</td>\n",
       "      <td>...</td>\n",
       "      <td>no</td>\n",
       "      <td>no</td>\n",
       "      <td>yes</td>\n",
       "      <td>no</td>\n",
       "      <td>no</td>\n",
       "      <td>no</td>\n",
       "      <td>no</td>\n",
       "      <td>no</td>\n",
       "      <td>no</td>\n",
       "      <td>yes</td>\n",
       "    </tr>\n",
       "    <tr>\n",
       "      <th>3</th>\n",
       "      <td>Female</td>\n",
       "      <td>18</td>\n",
       "      <td>2.0</td>\n",
       "      <td>unemployed</td>\n",
       "      <td>NSW</td>\n",
       "      <td>single</td>\n",
       "      <td>2.633</td>\n",
       "      <td>Q1</td>\n",
       "      <td>3.400</td>\n",
       "      <td>2.167</td>\n",
       "      <td>...</td>\n",
       "      <td>yes</td>\n",
       "      <td>no</td>\n",
       "      <td>no</td>\n",
       "      <td>yes</td>\n",
       "      <td>no</td>\n",
       "      <td>no</td>\n",
       "      <td>no</td>\n",
       "      <td>no</td>\n",
       "      <td>no</td>\n",
       "      <td>yes</td>\n",
       "    </tr>\n",
       "    <tr>\n",
       "      <th>4</th>\n",
       "      <td>Male</td>\n",
       "      <td>61</td>\n",
       "      <td>3.0</td>\n",
       "      <td>retired</td>\n",
       "      <td>WA</td>\n",
       "      <td>married</td>\n",
       "      <td>3.400</td>\n",
       "      <td>Q2</td>\n",
       "      <td>3.733</td>\n",
       "      <td>1.724</td>\n",
       "      <td>...</td>\n",
       "      <td>no</td>\n",
       "      <td>no</td>\n",
       "      <td>yes</td>\n",
       "      <td>no</td>\n",
       "      <td>no</td>\n",
       "      <td>yes</td>\n",
       "      <td>no</td>\n",
       "      <td>no</td>\n",
       "      <td>no</td>\n",
       "      <td>no</td>\n",
       "    </tr>\n",
       "    <tr>\n",
       "      <th>5</th>\n",
       "      <td>Female</td>\n",
       "      <td>63</td>\n",
       "      <td>7.0</td>\n",
       "      <td>retired</td>\n",
       "      <td>QLD</td>\n",
       "      <td>married</td>\n",
       "      <td>4.400</td>\n",
       "      <td>Q4</td>\n",
       "      <td>4.267</td>\n",
       "      <td>3.300</td>\n",
       "      <td>...</td>\n",
       "      <td>no</td>\n",
       "      <td>no</td>\n",
       "      <td>no</td>\n",
       "      <td>no</td>\n",
       "      <td>yes</td>\n",
       "      <td>no</td>\n",
       "      <td>no</td>\n",
       "      <td>no</td>\n",
       "      <td>no</td>\n",
       "      <td>no</td>\n",
       "    </tr>\n",
       "  </tbody>\n",
       "</table>\n",
       "<p>5 rows × 30 columns</p>\n",
       "</div>"
      ],
      "text/plain": [
       "   Gender  Age  Education                  Occupation State  \\\n",
       "0  Female   25        6.0  Clerical or service worker   VIC   \n",
       "1  Female   31        8.0                professional    WA   \n",
       "3  Female   18        2.0                  unemployed   NSW   \n",
       "4    Male   61        3.0                     retired    WA   \n",
       "5  Female   63        7.0                     retired   QLD   \n",
       "\n",
       "  Relationship_Status  Obligation_Rating Obligation_Category    NEP  \\\n",
       "0              single              4.800                  Q4  3.200   \n",
       "1             married              3.300                  Q1  3.400   \n",
       "3              single              2.633                  Q1  3.400   \n",
       "4             married              3.400                  Q2  3.733   \n",
       "5             married              4.400                  Q4  4.267   \n",
       "\n",
       "   Vacation_Behaviour  ... Entertainment_facilities Not_care_about_prices  \\\n",
       "0               2.067  ...                       no                    no   \n",
       "1               2.000  ...                       no                    no   \n",
       "3               2.167  ...                      yes                    no   \n",
       "4               1.724  ...                       no                    no   \n",
       "5               3.300  ...                       no                    no   \n",
       "\n",
       "  Life_style_of_the_local_people Intense_Experience_of_Nature  \\\n",
       "0                             no                           no   \n",
       "1                            yes                           no   \n",
       "3                             no                          yes   \n",
       "4                            yes                           no   \n",
       "5                             no                           no   \n",
       "\n",
       "  Cosiness_or_Familiar_Atmosphere Maintain_Unspoilt_Surroundings  \\\n",
       "0                              no                             no   \n",
       "1                              no                             no   \n",
       "3                              no                             no   \n",
       "4                              no                            yes   \n",
       "5                             yes                             no   \n",
       "\n",
       "  Everything_Organised Unspoilt_Nature_or_Natural_Landscape Cultural_Offers  \\\n",
       "0                   no                                   no              no   \n",
       "1                   no                                   no              no   \n",
       "3                   no                                   no              no   \n",
       "4                   no                                   no              no   \n",
       "5                   no                                   no              no   \n",
       "\n",
       "  Change_of_Surroundings  \n",
       "0                     no  \n",
       "1                    yes  \n",
       "3                    yes  \n",
       "4                     no  \n",
       "5                     no  \n",
       "\n",
       "[5 rows x 30 columns]"
      ]
     },
     "execution_count": 121,
     "metadata": {},
     "output_type": "execute_result"
    }
   ],
   "source": [
    "# show the first 5 observations of the main data\n",
    "df_vacation_data.head()"
   ]
  },
  {
   "cell_type": "code",
   "execution_count": 122,
   "id": "d641757a-2700-48d2-9005-9f4c64de2ea9",
   "metadata": {},
   "outputs": [
    {
     "data": {
      "text/html": [
       "<div>\n",
       "<style scoped>\n",
       "    .dataframe tbody tr th:only-of-type {\n",
       "        vertical-align: middle;\n",
       "    }\n",
       "\n",
       "    .dataframe tbody tr th {\n",
       "        vertical-align: top;\n",
       "    }\n",
       "\n",
       "    .dataframe thead th {\n",
       "        text-align: right;\n",
       "    }\n",
       "</style>\n",
       "<table border=\"1\" class=\"dataframe\">\n",
       "  <thead>\n",
       "    <tr style=\"text-align: right;\">\n",
       "      <th></th>\n",
       "      <th>Age</th>\n",
       "      <th>Education</th>\n",
       "      <th>Obligation_Rating</th>\n",
       "      <th>NEP</th>\n",
       "      <th>Vacation_Behaviour</th>\n",
       "    </tr>\n",
       "  </thead>\n",
       "  <tbody>\n",
       "    <tr>\n",
       "      <th>Age</th>\n",
       "      <td>1.000000</td>\n",
       "      <td>-0.174054</td>\n",
       "      <td>0.125086</td>\n",
       "      <td>0.081398</td>\n",
       "      <td>0.134623</td>\n",
       "    </tr>\n",
       "    <tr>\n",
       "      <th>Education</th>\n",
       "      <td>-0.174054</td>\n",
       "      <td>1.000000</td>\n",
       "      <td>-0.066769</td>\n",
       "      <td>-0.034141</td>\n",
       "      <td>-0.090444</td>\n",
       "    </tr>\n",
       "    <tr>\n",
       "      <th>Obligation_Rating</th>\n",
       "      <td>0.125086</td>\n",
       "      <td>-0.066769</td>\n",
       "      <td>1.000000</td>\n",
       "      <td>0.358696</td>\n",
       "      <td>0.519572</td>\n",
       "    </tr>\n",
       "    <tr>\n",
       "      <th>NEP</th>\n",
       "      <td>0.081398</td>\n",
       "      <td>-0.034141</td>\n",
       "      <td>0.358696</td>\n",
       "      <td>1.000000</td>\n",
       "      <td>0.266776</td>\n",
       "    </tr>\n",
       "    <tr>\n",
       "      <th>Vacation_Behaviour</th>\n",
       "      <td>0.134623</td>\n",
       "      <td>-0.090444</td>\n",
       "      <td>0.519572</td>\n",
       "      <td>0.266776</td>\n",
       "      <td>1.000000</td>\n",
       "    </tr>\n",
       "  </tbody>\n",
       "</table>\n",
       "</div>"
      ],
      "text/plain": [
       "                         Age  Education  Obligation_Rating       NEP  \\\n",
       "Age                 1.000000  -0.174054           0.125086  0.081398   \n",
       "Education          -0.174054   1.000000          -0.066769 -0.034141   \n",
       "Obligation_Rating   0.125086  -0.066769           1.000000  0.358696   \n",
       "NEP                 0.081398  -0.034141           0.358696  1.000000   \n",
       "Vacation_Behaviour  0.134623  -0.090444           0.519572  0.266776   \n",
       "\n",
       "                    Vacation_Behaviour  \n",
       "Age                           0.134623  \n",
       "Education                    -0.090444  \n",
       "Obligation_Rating             0.519572  \n",
       "NEP                           0.266776  \n",
       "Vacation_Behaviour            1.000000  "
      ]
     },
     "execution_count": 122,
     "metadata": {},
     "output_type": "execute_result"
    }
   ],
   "source": [
    "# for finding the pairs we need to draw 'correlation matrix' \n",
    "# correlation is possible only in numerical varaibles\n",
    "df_num.corr()"
   ]
  },
  {
   "cell_type": "markdown",
   "id": "2b841390-8520-4b72-b1b2-cff1edabac16",
   "metadata": {},
   "source": [
    "**interpretation**\n",
    " - we dont have any correlated numerical columns"
   ]
  },
  {
   "cell_type": "code",
   "execution_count": 123,
   "id": "dc19df6c-51a2-475b-aa9c-c7fa8a9a4fc1",
   "metadata": {},
   "outputs": [
    {
     "data": {
      "text/plain": [
       "<Axes: xlabel='Obligation_Rating', ylabel='Vacation_Behaviour'>"
      ]
     },
     "execution_count": 123,
     "metadata": {},
     "output_type": "execute_result"
    },
    {
     "data": {
      "image/png": "[encoded data removed]",
      "text/plain": [
       "<Figure size 640x480 with 1 Axes>"
      ]
     },
     "metadata": {},
     "output_type": "display_data"
    }
   ],
   "source": [
    "# plot a scatter plot between vacation behaviour and obligation rating\n",
    "sns.scatterplot(x='Obligation_Rating',y='Vacation_Behaviour',data=df_num)\n",
    "\n",
    "#diagram shows its linear \n",
    "# data positive acceptance region,hetereoscadescity hai ya nai check\n",
    "#data mai heteroscedasticity nai hona chahiye\n",
    "# there is minimal hetero scedasticity"
   ]
  },
  {
   "cell_type": "markdown",
   "id": "f31eb6bd-8460-470e-bc58-7f5907cb9fde",
   "metadata": {},
   "source": [
    "# Bivariate analysis on 1 numerical and 1 categorical column\n"
   ]
  },
  {
   "cell_type": "code",
   "execution_count": 124,
   "id": "b226dc58-f887-463d-8afa-665a7285b62e",
   "metadata": {},
   "outputs": [
    {
     "data": {
      "text/plain": [
       "Index(['Gender', 'Occupation', 'State', 'Relationship_Status',\n",
       "       'Obligation_Category', 'Rest_and_relax', 'Luxury_be spoilt',\n",
       "       'Do_sports', 'excitement_a_challenge', 'Not_exceed_planned_budget',\n",
       "       'Realise_creativity', 'Fun_and_entertainment', 'Good_company',\n",
       "       'Health_and_beauty', 'Free_and_easy_going', 'Entertainment_facilities',\n",
       "       'Not_care_about_prices', 'Life_style_of_the_local_people',\n",
       "       'Intense_Experience_of_Nature', 'Cosiness_or_Familiar_Atmosphere',\n",
       "       'Maintain_Unspoilt_Surroundings', 'Everything_Organised',\n",
       "       'Unspoilt_Nature_or_Natural_Landscape', 'Cultural_Offers',\n",
       "       'Change_of_Surroundings'],\n",
       "      dtype='object')"
      ]
     },
     "execution_count": 124,
     "metadata": {},
     "output_type": "execute_result"
    }
   ],
   "source": [
    "# show the categorical columns\n",
    "df_cat.columns"
   ]
  },
  {
   "cell_type": "raw",
   "id": "0971365a-2351-4be1-995d-011a4829c3c8",
   "metadata": {},
   "source": [
    "'Gender',\n",
    "'Occupation',\n",
    "'State', \n",
    "'Relationship_Status',\n",
    "'Obligation_Category', \n",
    "'Rest_and_relax',\n",
    "'Luxury_be spoilt',\n",
    "'Do_sports', \n",
    "'excitement_a_challenge',\n",
    "'Not_exceed_planned_budget',\n",
    "'Realise_creativity',\n",
    "'Fun_and_entertainment',\n",
    "'Good_company',\n",
    "'Health_and_beauty',\n",
    "'Free_and_easy_going',\n",
    "'Entertainment_facilities',\n",
    "'Not_care_about_prices',\n",
    "'Life_style_of_the_local_people',\n",
    "'Intense_Experience_of_Nature',\n",
    "'Cosiness_or_Familiar_Atmosphere',\n",
    "'Maintain_Unspoilt_Surroundings',\n",
    "'Everything_Organised',\n",
    "'Unspoilt_Nature_or_Natural_Landscape',\n",
    "'Cultural_Offers',\n",
    "'Change_of_Surroundings'"
   ]
  },
  {
   "cell_type": "code",
   "execution_count": 125,
   "id": "852451a3-2788-4de6-afb2-6eca0e1de148",
   "metadata": {},
   "outputs": [
    {
     "data": {
      "text/plain": [
       "Index(['Age', 'Education', 'Obligation_Rating', 'NEP', 'Vacation_Behaviour'], dtype='object')"
      ]
     },
     "execution_count": 125,
     "metadata": {},
     "output_type": "execute_result"
    }
   ],
   "source": [
    "# show the numerical columns\n",
    "df_num.columns"
   ]
  },
  {
   "cell_type": "raw",
   "id": "019aef66-9267-43e7-aecf-df103bd22314",
   "metadata": {},
   "source": [
    "'Gender',Age\n",
    "'Occupation',Age\n",
    "'State',Age\n",
    "'Relationship_Status',Age\n",
    "'Obligation_Category',Age\n",
    "'Rest_and_relax',Age\n",
    "'Luxury_be spoilt',Age\n",
    "'Do_sports',Age\n",
    "'excitement_a_challenge',Age\n",
    "'Not_exceed_planned_budget',Age\n",
    "'Realise_creativity',Age\n",
    "'Fun_and_entertainment',Age\n",
    "'Good_company',Age\n",
    "'Health_and_beauty',Age\n",
    "'Free_and_easy_going',Age\n",
    "'Entertainment_facilities',Age\n",
    "'Not_care_about_prices',Age\n",
    "'Life_style_of_the_local_people',Age\n",
    "'Intense_Experience_of_Nature',Age\n",
    "'Cosiness_or_Familiar_Atmosphere',Age\n",
    "'Maintain_Unspoilt_Surroundings',Age\n",
    "'Everything_Organised',Age\n",
    "'Unspoilt_Nature_or_Natural_Landscape',Age\n",
    "'Cultural_Offers',Age\n",
    "'Change_of_Surroundings',Age"
   ]
  },
  {
   "cell_type": "markdown",
   "id": "0f4633f1-19c4-4431-a07e-def0e3143723",
   "metadata": {},
   "source": [
    "#### Gender,Age"
   ]
  },
  {
   "cell_type": "code",
   "execution_count": 126,
   "id": "162b01a1-1e8d-4193-89b2-27d47a98b64c",
   "metadata": {},
   "outputs": [
    {
     "data": {
      "text/plain": [
       "<Axes: xlabel='Gender', ylabel='Age'>"
      ]
     },
     "execution_count": 126,
     "metadata": {},
     "output_type": "execute_result"
    },
    {
     "data": {
      "image/png": "[encoded data removed]",
      "text/plain": [
       "<Figure size 640x480 with 1 Axes>"
      ]
     },
     "metadata": {},
     "output_type": "display_data"
    }
   ],
   "source": [
    "# plot the bar graph\n",
    "sns.barplot(x='Gender',y='Age',data = df_vacation_data,color='grey')\n",
    "# keep categorical column on x axis always\n",
    "# after 'grey' click shift tab and we see estimator = mean \n",
    "# the line at the end of the graph represents the mean(average) if estimator is not given"
   ]
  },
  {
   "cell_type": "code",
   "execution_count": 127,
   "id": "8e234552-1af9-4539-9df7-a1450e1fc3cd",
   "metadata": {},
   "outputs": [
    {
     "data": {
      "text/plain": [
       "<Axes: xlabel='Gender', ylabel='Age'>"
      ]
     },
     "execution_count": 127,
     "metadata": {},
     "output_type": "execute_result"
    },
    {
     "data": {
      "image/png": "[encoded data removed]",
      "text/plain": [
       "<Figure size 640x480 with 1 Axes>"
      ]
     },
     "metadata": {},
     "output_type": "display_data"
    }
   ],
   "source": [
    "# plot the bar graph\n",
    "sns.barplot(x='Gender',y='Age',data = df_vacation_data,color='grey',estimator=min)"
   ]
  },
  {
   "cell_type": "code",
   "execution_count": 128,
   "id": "9a315723-1c2f-4ce5-9235-6869bae21d4e",
   "metadata": {},
   "outputs": [
    {
     "data": {
      "text/plain": [
       "<Axes: xlabel='Gender', ylabel='Age'>"
      ]
     },
     "execution_count": 128,
     "metadata": {},
     "output_type": "execute_result"
    },
    {
     "data": {
      "image/png": "[encoded data removed]",
      "text/plain": [
       "<Figure size 640x480 with 1 Axes>"
      ]
     },
     "metadata": {},
     "output_type": "display_data"
    }
   ],
   "source": [
    "# plot the bar graph\n",
    "sns.barplot(x='Gender',y='Age',data = df_vacation_data,color='grey',estimator=max)\n",
    "# line outliers ke vajah se aya hai"
   ]
  },
  {
   "cell_type": "markdown",
   "id": "152bde22-9124-424b-8e44-50cc85e4a47e",
   "metadata": {},
   "source": [
    "**interpretation**\n",
    " - the data is quiet balanced that we derived after looking at avg. value and max. value\n",
    " - avg. age for male and female is lyig b/w 40-50"
   ]
  },
  {
   "cell_type": "markdown",
   "id": "8683f0a5-2947-4ace-8e5f-15ba02664cca",
   "metadata": {},
   "source": [
    "#### 'Occupation',Age"
   ]
  },
  {
   "cell_type": "code",
   "execution_count": 129,
   "id": "d9051de6-c3af-4ee1-97fb-d3038dc07d3a",
   "metadata": {},
   "outputs": [
    {
     "data": {
      "image/png": "[encoded data removed]",
      "text/plain": [
       "<Figure size 640x480 with 1 Axes>"
      ]
     },
     "metadata": {},
     "output_type": "display_data"
    }
   ],
   "source": [
    "# plot the bar graph\n",
    "sns.barplot(x='Occupation',y='Age',data = df_vacation_data,color='grey')\n",
    "plt.title('Occupation vs Age')\n",
    "plt.grid()\n",
    "plt.xticks(rotation=70)\n",
    "plt.show()"
   ]
  },
  {
   "cell_type": "code",
   "execution_count": null,
   "id": "f36271cb-f448-4f0a-98a8-693603f9f961",
   "metadata": {},
   "outputs": [],
   "source": []
  }
 ],
 "metadata": {
  "kernelspec": {
   "display_name": "Python 3 (ipykernel)",
   "language": "python",
   "name": "python3"
  },
  "language_info": {
   "codemirror_mode": {
    "name": "ipython",
    "version": 3
   },
   "file_extension": ".py",
   "mimetype": "text/x-python",
   "name": "python",
   "nbconvert_exporter": "python",
   "pygments_lexer": "ipython3",
   "version": "3.12.4"
  }
 },
 "nbformat": 4,
 "nbformat_minor": 5
}
